{
 "cells": [
  {
   "cell_type": "markdown",
   "id": "869f5078-32de-4e58-aa77-181664514481",
   "metadata": {},
   "source": [
    "## Process High Frequency Data:\n",
    "\n",
    "A Zen file can be found in  data/time_series/zen/from_z3d.h5\n"
   ]
  },
  {
   "cell_type": "code",
   "execution_count": 3,
   "id": "4e8f8c58-ea22-425f-8364-576e57b02411",
   "metadata": {},
   "outputs": [],
   "source": [
    "# Required imports for the program. \n",
    "import numpy as np\n",
    "from pathlib import Path\n",
    "import pandas as pd\n",
    "import warnings\n",
    "\n",
    "from mth5.clients.make_mth5 import MakeMTH5\n",
    "from mth5 import mth5, timeseries\n",
    "from mth5.utils.helpers import initialize_mth5\n",
    "from mt_metadata.utils.mttime import get_now_utc, MTime\n",
    "from aurora.config import BANDS_DEFAULT_FILE\n",
    "from aurora.config.config_creator import ConfigCreator\n",
    "from aurora.pipelines.process_mth5 import process_mth5\n",
    "from mtpy.processing import KernelDataset, RunSummary\n",
    "\n",
    "warnings.filterwarnings('ignore')"
   ]
  },
  {
   "cell_type": "markdown",
   "id": "57d9c908-9547-44ab-a314-cd470deb33f9",
   "metadata": {},
   "source": [
    "## Set up the path to the file"
   ]
  },
  {
   "cell_type": "code",
   "execution_count": 4,
   "id": "be989c19-50d9-4129-8dd8-bca01b880161",
   "metadata": {},
   "outputs": [
    {
     "data": {
      "text/plain": [
       "False"
      ]
     },
     "execution_count": 4,
     "metadata": {},
     "output_type": "execute_result"
    }
   ],
   "source": [
    "here = Path(\".\")\n",
    "data_dir = here.joinpath(\"../../data/time_series/zen\")\n",
    "mth5_path = data_dir.joinpath(\"from_z3d.h5\")\n",
    "\n",
    "mth5_path.exists()"
   ]
  },
  {
   "cell_type": "code",
   "execution_count": 3,
   "id": "4bda57f3-8533-4158-82cf-8512ce11d083",
   "metadata": {},
   "outputs": [],
   "source": [
    "mth5_object = initialize_mth5(mth5_path)"
   ]
  },
  {
   "cell_type": "code",
   "execution_count": 4,
   "id": "137670a2-064e-4bcf-b743-02bff866ef9c",
   "metadata": {},
   "outputs": [
    {
     "name": "stdout",
     "output_type": "stream",
     "text": [
      " Filename: ../../data/time_series/zen/from_z3d.h5 \n",
      " Version: 0.2.0\n"
     ]
    }
   ],
   "source": [
    "# Print some info about the mth5 \n",
    "mth5_filename = mth5_object.filename\n",
    "version = mth5_object.file_version\n",
    "print(f\" Filename: {mth5_filename} \\n Version: {version}\")"
   ]
  },
  {
   "cell_type": "code",
   "execution_count": 5,
   "id": "e9e7074b-b102-4dc4-bb4a-434049bad9cf",
   "metadata": {},
   "outputs": [],
   "source": [
    "mth5_object.channel_summary.clear_table()\n",
    "channel_summary = mth5_object.channel_summary.summarize()\n",
    "channel_summary_df = mth5_object.channel_summary.to_dataframe()"
   ]
  },
  {
   "cell_type": "code",
   "execution_count": 6,
   "id": "53b1a04e-567c-4625-92aa-0f8c47691ad2",
   "metadata": {},
   "outputs": [
    {
     "data": {
      "text/html": [
       "<div>\n",
       "<style scoped>\n",
       "    .dataframe tbody tr th:only-of-type {\n",
       "        vertical-align: middle;\n",
       "    }\n",
       "\n",
       "    .dataframe tbody tr th {\n",
       "        vertical-align: top;\n",
       "    }\n",
       "\n",
       "    .dataframe thead th {\n",
       "        text-align: right;\n",
       "    }\n",
       "</style>\n",
       "<table border=\"1\" class=\"dataframe\">\n",
       "  <thead>\n",
       "    <tr style=\"text-align: right;\">\n",
       "      <th></th>\n",
       "      <th>survey</th>\n",
       "      <th>station</th>\n",
       "      <th>run</th>\n",
       "      <th>latitude</th>\n",
       "      <th>longitude</th>\n",
       "      <th>elevation</th>\n",
       "      <th>component</th>\n",
       "      <th>start</th>\n",
       "      <th>end</th>\n",
       "      <th>n_samples</th>\n",
       "      <th>sample_rate</th>\n",
       "      <th>measurement_type</th>\n",
       "      <th>azimuth</th>\n",
       "      <th>tilt</th>\n",
       "      <th>units</th>\n",
       "      <th>hdf5_reference</th>\n",
       "      <th>run_hdf5_reference</th>\n",
       "      <th>station_hdf5_reference</th>\n",
       "    </tr>\n",
       "  </thead>\n",
       "  <tbody>\n",
       "    <tr>\n",
       "      <th>0</th>\n",
       "      <td>yellowstone</td>\n",
       "      <td>wb280</td>\n",
       "      <td>sr1024_0001</td>\n",
       "      <td>44.147916</td>\n",
       "      <td>-111.049752</td>\n",
       "      <td>1954.239</td>\n",
       "      <td>ex</td>\n",
       "      <td>2017-07-01 02:19:59+00:00</td>\n",
       "      <td>2017-07-03 20:19:42+00:00</td>\n",
       "      <td>243284992</td>\n",
       "      <td>1024.0</td>\n",
       "      <td>electric</td>\n",
       "      <td>0.0</td>\n",
       "      <td>0.0</td>\n",
       "      <td>digital counts</td>\n",
       "      <td>&lt;HDF5 object reference&gt;</td>\n",
       "      <td>&lt;HDF5 object reference&gt;</td>\n",
       "      <td>&lt;HDF5 object reference&gt;</td>\n",
       "    </tr>\n",
       "    <tr>\n",
       "      <th>1</th>\n",
       "      <td>yellowstone</td>\n",
       "      <td>wb280</td>\n",
       "      <td>sr1024_0001</td>\n",
       "      <td>44.147916</td>\n",
       "      <td>-111.049752</td>\n",
       "      <td>1954.239</td>\n",
       "      <td>ey</td>\n",
       "      <td>2017-07-01 02:19:59+00:00</td>\n",
       "      <td>2017-07-03 20:19:42+00:00</td>\n",
       "      <td>243284992</td>\n",
       "      <td>1024.0</td>\n",
       "      <td>electric</td>\n",
       "      <td>90.0</td>\n",
       "      <td>0.0</td>\n",
       "      <td>digital counts</td>\n",
       "      <td>&lt;HDF5 object reference&gt;</td>\n",
       "      <td>&lt;HDF5 object reference&gt;</td>\n",
       "      <td>&lt;HDF5 object reference&gt;</td>\n",
       "    </tr>\n",
       "    <tr>\n",
       "      <th>2</th>\n",
       "      <td>yellowstone</td>\n",
       "      <td>wb280</td>\n",
       "      <td>sr1024_0001</td>\n",
       "      <td>44.147916</td>\n",
       "      <td>-111.049752</td>\n",
       "      <td>1954.239</td>\n",
       "      <td>hx</td>\n",
       "      <td>2017-07-01 02:19:59+00:00</td>\n",
       "      <td>2017-07-03 20:19:41.997070+00:00</td>\n",
       "      <td>243284989</td>\n",
       "      <td>1024.0</td>\n",
       "      <td>magnetic</td>\n",
       "      <td>0.0</td>\n",
       "      <td>0.0</td>\n",
       "      <td>digital counts</td>\n",
       "      <td>&lt;HDF5 object reference&gt;</td>\n",
       "      <td>&lt;HDF5 object reference&gt;</td>\n",
       "      <td>&lt;HDF5 object reference&gt;</td>\n",
       "    </tr>\n",
       "    <tr>\n",
       "      <th>3</th>\n",
       "      <td>yellowstone</td>\n",
       "      <td>wb280</td>\n",
       "      <td>sr1024_0001</td>\n",
       "      <td>44.147916</td>\n",
       "      <td>-111.049752</td>\n",
       "      <td>1954.239</td>\n",
       "      <td>hy</td>\n",
       "      <td>2017-07-01 02:19:59+00:00</td>\n",
       "      <td>2017-07-03 20:19:41.999023+00:00</td>\n",
       "      <td>243284991</td>\n",
       "      <td>1024.0</td>\n",
       "      <td>magnetic</td>\n",
       "      <td>90.0</td>\n",
       "      <td>0.0</td>\n",
       "      <td>digital counts</td>\n",
       "      <td>&lt;HDF5 object reference&gt;</td>\n",
       "      <td>&lt;HDF5 object reference&gt;</td>\n",
       "      <td>&lt;HDF5 object reference&gt;</td>\n",
       "    </tr>\n",
       "    <tr>\n",
       "      <th>4</th>\n",
       "      <td>yellowstone</td>\n",
       "      <td>wb280</td>\n",
       "      <td>sr1024_0001</td>\n",
       "      <td>44.147916</td>\n",
       "      <td>-111.049752</td>\n",
       "      <td>1954.239</td>\n",
       "      <td>hz</td>\n",
       "      <td>2017-07-01 02:19:59+00:00</td>\n",
       "      <td>2017-07-03 20:19:42+00:00</td>\n",
       "      <td>243284992</td>\n",
       "      <td>1024.0</td>\n",
       "      <td>magnetic</td>\n",
       "      <td>90.0</td>\n",
       "      <td>0.0</td>\n",
       "      <td>digital counts</td>\n",
       "      <td>&lt;HDF5 object reference&gt;</td>\n",
       "      <td>&lt;HDF5 object reference&gt;</td>\n",
       "      <td>&lt;HDF5 object reference&gt;</td>\n",
       "    </tr>\n",
       "    <tr>\n",
       "      <th>5</th>\n",
       "      <td>yellowstone</td>\n",
       "      <td>wb380</td>\n",
       "      <td>sr1024_0001</td>\n",
       "      <td>44.291193</td>\n",
       "      <td>-110.614549</td>\n",
       "      <td>2392.466</td>\n",
       "      <td>ex</td>\n",
       "      <td>2017-07-02 03:01:00+00:00</td>\n",
       "      <td>2017-07-05 16:24:42+00:00</td>\n",
       "      <td>314800128</td>\n",
       "      <td>1024.0</td>\n",
       "      <td>electric</td>\n",
       "      <td>0.0</td>\n",
       "      <td>0.0</td>\n",
       "      <td>digital counts</td>\n",
       "      <td>&lt;HDF5 object reference&gt;</td>\n",
       "      <td>&lt;HDF5 object reference&gt;</td>\n",
       "      <td>&lt;HDF5 object reference&gt;</td>\n",
       "    </tr>\n",
       "    <tr>\n",
       "      <th>6</th>\n",
       "      <td>yellowstone</td>\n",
       "      <td>wb380</td>\n",
       "      <td>sr1024_0001</td>\n",
       "      <td>44.291193</td>\n",
       "      <td>-110.614549</td>\n",
       "      <td>2392.466</td>\n",
       "      <td>ey</td>\n",
       "      <td>2017-07-02 03:01:00+00:00</td>\n",
       "      <td>2017-07-05 16:24:42+00:00</td>\n",
       "      <td>314800128</td>\n",
       "      <td>1024.0</td>\n",
       "      <td>electric</td>\n",
       "      <td>90.0</td>\n",
       "      <td>0.0</td>\n",
       "      <td>digital counts</td>\n",
       "      <td>&lt;HDF5 object reference&gt;</td>\n",
       "      <td>&lt;HDF5 object reference&gt;</td>\n",
       "      <td>&lt;HDF5 object reference&gt;</td>\n",
       "    </tr>\n",
       "    <tr>\n",
       "      <th>7</th>\n",
       "      <td>yellowstone</td>\n",
       "      <td>wb380</td>\n",
       "      <td>sr1024_0001</td>\n",
       "      <td>44.291193</td>\n",
       "      <td>-110.614549</td>\n",
       "      <td>2392.466</td>\n",
       "      <td>hx</td>\n",
       "      <td>2017-07-02 03:01:00+00:00</td>\n",
       "      <td>2017-07-05 16:24:42+00:00</td>\n",
       "      <td>314800128</td>\n",
       "      <td>1024.0</td>\n",
       "      <td>magnetic</td>\n",
       "      <td>0.0</td>\n",
       "      <td>0.0</td>\n",
       "      <td>digital counts</td>\n",
       "      <td>&lt;HDF5 object reference&gt;</td>\n",
       "      <td>&lt;HDF5 object reference&gt;</td>\n",
       "      <td>&lt;HDF5 object reference&gt;</td>\n",
       "    </tr>\n",
       "    <tr>\n",
       "      <th>8</th>\n",
       "      <td>yellowstone</td>\n",
       "      <td>wb380</td>\n",
       "      <td>sr1024_0001</td>\n",
       "      <td>44.291193</td>\n",
       "      <td>-110.614549</td>\n",
       "      <td>2392.466</td>\n",
       "      <td>hy</td>\n",
       "      <td>2017-07-02 03:01:00+00:00</td>\n",
       "      <td>2017-07-05 16:24:42+00:00</td>\n",
       "      <td>314800128</td>\n",
       "      <td>1024.0</td>\n",
       "      <td>magnetic</td>\n",
       "      <td>90.0</td>\n",
       "      <td>0.0</td>\n",
       "      <td>digital counts</td>\n",
       "      <td>&lt;HDF5 object reference&gt;</td>\n",
       "      <td>&lt;HDF5 object reference&gt;</td>\n",
       "      <td>&lt;HDF5 object reference&gt;</td>\n",
       "    </tr>\n",
       "    <tr>\n",
       "      <th>9</th>\n",
       "      <td>yellowstone</td>\n",
       "      <td>wb380</td>\n",
       "      <td>sr1024_0001</td>\n",
       "      <td>44.291193</td>\n",
       "      <td>-110.614549</td>\n",
       "      <td>2392.466</td>\n",
       "      <td>hz</td>\n",
       "      <td>2017-07-02 03:01:00+00:00</td>\n",
       "      <td>2017-07-05 16:24:41+00:00</td>\n",
       "      <td>314799104</td>\n",
       "      <td>1024.0</td>\n",
       "      <td>magnetic</td>\n",
       "      <td>90.0</td>\n",
       "      <td>0.0</td>\n",
       "      <td>digital counts</td>\n",
       "      <td>&lt;HDF5 object reference&gt;</td>\n",
       "      <td>&lt;HDF5 object reference&gt;</td>\n",
       "      <td>&lt;HDF5 object reference&gt;</td>\n",
       "    </tr>\n",
       "  </tbody>\n",
       "</table>\n",
       "</div>"
      ],
      "text/plain": [
       "        survey station          run   latitude   longitude  elevation  \\\n",
       "0  yellowstone   wb280  sr1024_0001  44.147916 -111.049752   1954.239   \n",
       "1  yellowstone   wb280  sr1024_0001  44.147916 -111.049752   1954.239   \n",
       "2  yellowstone   wb280  sr1024_0001  44.147916 -111.049752   1954.239   \n",
       "3  yellowstone   wb280  sr1024_0001  44.147916 -111.049752   1954.239   \n",
       "4  yellowstone   wb280  sr1024_0001  44.147916 -111.049752   1954.239   \n",
       "5  yellowstone   wb380  sr1024_0001  44.291193 -110.614549   2392.466   \n",
       "6  yellowstone   wb380  sr1024_0001  44.291193 -110.614549   2392.466   \n",
       "7  yellowstone   wb380  sr1024_0001  44.291193 -110.614549   2392.466   \n",
       "8  yellowstone   wb380  sr1024_0001  44.291193 -110.614549   2392.466   \n",
       "9  yellowstone   wb380  sr1024_0001  44.291193 -110.614549   2392.466   \n",
       "\n",
       "  component                     start                              end  \\\n",
       "0        ex 2017-07-01 02:19:59+00:00        2017-07-03 20:19:42+00:00   \n",
       "1        ey 2017-07-01 02:19:59+00:00        2017-07-03 20:19:42+00:00   \n",
       "2        hx 2017-07-01 02:19:59+00:00 2017-07-03 20:19:41.997070+00:00   \n",
       "3        hy 2017-07-01 02:19:59+00:00 2017-07-03 20:19:41.999023+00:00   \n",
       "4        hz 2017-07-01 02:19:59+00:00        2017-07-03 20:19:42+00:00   \n",
       "5        ex 2017-07-02 03:01:00+00:00        2017-07-05 16:24:42+00:00   \n",
       "6        ey 2017-07-02 03:01:00+00:00        2017-07-05 16:24:42+00:00   \n",
       "7        hx 2017-07-02 03:01:00+00:00        2017-07-05 16:24:42+00:00   \n",
       "8        hy 2017-07-02 03:01:00+00:00        2017-07-05 16:24:42+00:00   \n",
       "9        hz 2017-07-02 03:01:00+00:00        2017-07-05 16:24:41+00:00   \n",
       "\n",
       "   n_samples  sample_rate measurement_type  azimuth  tilt           units  \\\n",
       "0  243284992       1024.0         electric      0.0   0.0  digital counts   \n",
       "1  243284992       1024.0         electric     90.0   0.0  digital counts   \n",
       "2  243284989       1024.0         magnetic      0.0   0.0  digital counts   \n",
       "3  243284991       1024.0         magnetic     90.0   0.0  digital counts   \n",
       "4  243284992       1024.0         magnetic     90.0   0.0  digital counts   \n",
       "5  314800128       1024.0         electric      0.0   0.0  digital counts   \n",
       "6  314800128       1024.0         electric     90.0   0.0  digital counts   \n",
       "7  314800128       1024.0         magnetic      0.0   0.0  digital counts   \n",
       "8  314800128       1024.0         magnetic     90.0   0.0  digital counts   \n",
       "9  314799104       1024.0         magnetic     90.0   0.0  digital counts   \n",
       "\n",
       "            hdf5_reference       run_hdf5_reference   station_hdf5_reference  \n",
       "0  <HDF5 object reference>  <HDF5 object reference>  <HDF5 object reference>  \n",
       "1  <HDF5 object reference>  <HDF5 object reference>  <HDF5 object reference>  \n",
       "2  <HDF5 object reference>  <HDF5 object reference>  <HDF5 object reference>  \n",
       "3  <HDF5 object reference>  <HDF5 object reference>  <HDF5 object reference>  \n",
       "4  <HDF5 object reference>  <HDF5 object reference>  <HDF5 object reference>  \n",
       "5  <HDF5 object reference>  <HDF5 object reference>  <HDF5 object reference>  \n",
       "6  <HDF5 object reference>  <HDF5 object reference>  <HDF5 object reference>  \n",
       "7  <HDF5 object reference>  <HDF5 object reference>  <HDF5 object reference>  \n",
       "8  <HDF5 object reference>  <HDF5 object reference>  <HDF5 object reference>  \n",
       "9  <HDF5 object reference>  <HDF5 object reference>  <HDF5 object reference>  "
      ]
     },
     "execution_count": 6,
     "metadata": {},
     "output_type": "execute_result"
    }
   ],
   "source": [
    "channel_summary_df"
   ]
  },
  {
   "cell_type": "markdown",
   "id": "e727c8e9-6adf-4b80-8cdc-20314473f0a8",
   "metadata": {},
   "source": [
    "##  Compress the Channel Summary to a RunSummary"
   ]
  },
  {
   "cell_type": "code",
   "execution_count": 7,
   "id": "d43c8acf-fc00-4f5b-b1ca-a5cf811878e9",
   "metadata": {},
   "outputs": [
    {
     "name": "stderr",
     "output_type": "stream",
     "text": [
      "2022-10-16 18:24:27,421 [line 753] mth5.mth5.MTH5.close_mth5 - INFO: Flushing and closing ../../data/time_series/zen/from_z3d.h5\n"
     ]
    }
   ],
   "source": [
    "mth5_run_summary = RunSummary()\n",
    "mth5_run_summary.from_mth5s([mth5_path,])\n",
    "run_summary = mth5_run_summary.clone()\n"
   ]
  },
  {
   "cell_type": "code",
   "execution_count": 8,
   "id": "024834f3-1345-4195-9674-812d026ec197",
   "metadata": {},
   "outputs": [
    {
     "data": {
      "text/html": [
       "<div>\n",
       "<style scoped>\n",
       "    .dataframe tbody tr th:only-of-type {\n",
       "        vertical-align: middle;\n",
       "    }\n",
       "\n",
       "    .dataframe tbody tr th {\n",
       "        vertical-align: top;\n",
       "    }\n",
       "\n",
       "    .dataframe thead th {\n",
       "        text-align: right;\n",
       "    }\n",
       "</style>\n",
       "<table border=\"1\" class=\"dataframe\">\n",
       "  <thead>\n",
       "    <tr style=\"text-align: right;\">\n",
       "      <th></th>\n",
       "      <th>survey</th>\n",
       "      <th>station_id</th>\n",
       "      <th>run_id</th>\n",
       "      <th>start</th>\n",
       "      <th>end</th>\n",
       "      <th>sample_rate</th>\n",
       "      <th>input_channels</th>\n",
       "      <th>output_channels</th>\n",
       "      <th>channel_scale_factors</th>\n",
       "      <th>mth5_path</th>\n",
       "      <th>duration</th>\n",
       "    </tr>\n",
       "  </thead>\n",
       "  <tbody>\n",
       "    <tr>\n",
       "      <th>0</th>\n",
       "      <td>yellowstone</td>\n",
       "      <td>wb280</td>\n",
       "      <td>sr1024_0001</td>\n",
       "      <td>2017-07-01 02:19:59+00:00</td>\n",
       "      <td>2017-07-03 20:19:42+00:00</td>\n",
       "      <td>1024.0</td>\n",
       "      <td>[hx, hy]</td>\n",
       "      <td>[ex, ey, hz]</td>\n",
       "      <td>{'ex': 1.0, 'ey': 1.0, 'hx': 1.0, 'hy': 1.0, '...</td>\n",
       "      <td>../../data/time_series/zen/from_z3d.h5</td>\n",
       "      <td>237583.0</td>\n",
       "    </tr>\n",
       "    <tr>\n",
       "      <th>1</th>\n",
       "      <td>yellowstone</td>\n",
       "      <td>wb380</td>\n",
       "      <td>sr1024_0001</td>\n",
       "      <td>2017-07-02 03:01:00+00:00</td>\n",
       "      <td>2017-07-05 16:24:42+00:00</td>\n",
       "      <td>1024.0</td>\n",
       "      <td>[hx, hy]</td>\n",
       "      <td>[ex, ey, hz]</td>\n",
       "      <td>{'ex': 1.0, 'ey': 1.0, 'hx': 1.0, 'hy': 1.0, '...</td>\n",
       "      <td>../../data/time_series/zen/from_z3d.h5</td>\n",
       "      <td>307422.0</td>\n",
       "    </tr>\n",
       "  </tbody>\n",
       "</table>\n",
       "</div>"
      ],
      "text/plain": [
       "        survey station_id       run_id                     start  \\\n",
       "0  yellowstone      wb280  sr1024_0001 2017-07-01 02:19:59+00:00   \n",
       "1  yellowstone      wb380  sr1024_0001 2017-07-02 03:01:00+00:00   \n",
       "\n",
       "                        end  sample_rate input_channels output_channels  \\\n",
       "0 2017-07-03 20:19:42+00:00       1024.0       [hx, hy]    [ex, ey, hz]   \n",
       "1 2017-07-05 16:24:42+00:00       1024.0       [hx, hy]    [ex, ey, hz]   \n",
       "\n",
       "                               channel_scale_factors  \\\n",
       "0  {'ex': 1.0, 'ey': 1.0, 'hx': 1.0, 'hy': 1.0, '...   \n",
       "1  {'ex': 1.0, 'ey': 1.0, 'hx': 1.0, 'hy': 1.0, '...   \n",
       "\n",
       "                                mth5_path  duration  \n",
       "0  ../../data/time_series/zen/from_z3d.h5  237583.0  \n",
       "1  ../../data/time_series/zen/from_z3d.h5  307422.0  "
      ]
     },
     "execution_count": 8,
     "metadata": {},
     "output_type": "execute_result"
    }
   ],
   "source": [
    "run_summary.df"
   ]
  },
  {
   "cell_type": "code",
   "execution_count": 9,
   "id": "38c2f8c7-5b52-47c1-8591-eb73df673b9e",
   "metadata": {},
   "outputs": [
    {
     "data": {
      "text/html": [
       "<div>\n",
       "<style scoped>\n",
       "    .dataframe tbody tr th:only-of-type {\n",
       "        vertical-align: middle;\n",
       "    }\n",
       "\n",
       "    .dataframe tbody tr th {\n",
       "        vertical-align: top;\n",
       "    }\n",
       "\n",
       "    .dataframe thead th {\n",
       "        text-align: right;\n",
       "    }\n",
       "</style>\n",
       "<table border=\"1\" class=\"dataframe\">\n",
       "  <thead>\n",
       "    <tr style=\"text-align: right;\">\n",
       "      <th></th>\n",
       "      <th>survey</th>\n",
       "      <th>station_id</th>\n",
       "      <th>run_id</th>\n",
       "      <th>start</th>\n",
       "      <th>end</th>\n",
       "    </tr>\n",
       "  </thead>\n",
       "  <tbody>\n",
       "    <tr>\n",
       "      <th>0</th>\n",
       "      <td>yellowstone</td>\n",
       "      <td>wb280</td>\n",
       "      <td>sr1024_0001</td>\n",
       "      <td>2017-07-01 02:19:59+00:00</td>\n",
       "      <td>2017-07-03 20:19:42+00:00</td>\n",
       "    </tr>\n",
       "    <tr>\n",
       "      <th>1</th>\n",
       "      <td>yellowstone</td>\n",
       "      <td>wb380</td>\n",
       "      <td>sr1024_0001</td>\n",
       "      <td>2017-07-02 03:01:00+00:00</td>\n",
       "      <td>2017-07-05 16:24:42+00:00</td>\n",
       "    </tr>\n",
       "  </tbody>\n",
       "</table>\n",
       "</div>"
      ],
      "text/plain": [
       "        survey station_id       run_id                     start  \\\n",
       "0  yellowstone      wb280  sr1024_0001 2017-07-01 02:19:59+00:00   \n",
       "1  yellowstone      wb380  sr1024_0001 2017-07-02 03:01:00+00:00   \n",
       "\n",
       "                        end  \n",
       "0 2017-07-03 20:19:42+00:00  \n",
       "1 2017-07-05 16:24:42+00:00  "
      ]
     },
     "execution_count": 9,
     "metadata": {},
     "output_type": "execute_result"
    }
   ],
   "source": [
    "run_summary.mini_summary"
   ]
  },
  {
   "cell_type": "code",
   "execution_count": 10,
   "id": "3ad5a787-7006-42e4-ae4d-457163b5a2d1",
   "metadata": {},
   "outputs": [],
   "source": [
    "local_station_id = \"wb280\"\n",
    "remote_station_id = \"wb380\""
   ]
  },
  {
   "cell_type": "code",
   "execution_count": 11,
   "id": "137d96f6-2219-4c82-9432-de3a13442c05",
   "metadata": {},
   "outputs": [
    {
     "data": {
      "text/html": [
       "<div>\n",
       "<style scoped>\n",
       "    .dataframe tbody tr th:only-of-type {\n",
       "        vertical-align: middle;\n",
       "    }\n",
       "\n",
       "    .dataframe tbody tr th {\n",
       "        vertical-align: top;\n",
       "    }\n",
       "\n",
       "    .dataframe thead th {\n",
       "        text-align: right;\n",
       "    }\n",
       "</style>\n",
       "<table border=\"1\" class=\"dataframe\">\n",
       "  <thead>\n",
       "    <tr style=\"text-align: right;\">\n",
       "      <th></th>\n",
       "      <th>survey</th>\n",
       "      <th>station_id</th>\n",
       "      <th>run_id</th>\n",
       "      <th>start</th>\n",
       "      <th>end</th>\n",
       "      <th>duration</th>\n",
       "    </tr>\n",
       "  </thead>\n",
       "  <tbody>\n",
       "    <tr>\n",
       "      <th>0</th>\n",
       "      <td>yellowstone</td>\n",
       "      <td>wb280</td>\n",
       "      <td>sr1024_0001</td>\n",
       "      <td>2017-07-02 03:01:00+00:00</td>\n",
       "      <td>2017-07-03 20:19:42+00:00</td>\n",
       "      <td>148722.0</td>\n",
       "    </tr>\n",
       "    <tr>\n",
       "      <th>1</th>\n",
       "      <td>yellowstone</td>\n",
       "      <td>wb380</td>\n",
       "      <td>sr1024_0001</td>\n",
       "      <td>2017-07-02 03:01:00+00:00</td>\n",
       "      <td>2017-07-03 20:19:42+00:00</td>\n",
       "      <td>148722.0</td>\n",
       "    </tr>\n",
       "  </tbody>\n",
       "</table>\n",
       "</div>"
      ],
      "text/plain": [
       "        survey station_id       run_id                     start  \\\n",
       "0  yellowstone      wb280  sr1024_0001 2017-07-02 03:01:00+00:00   \n",
       "1  yellowstone      wb380  sr1024_0001 2017-07-02 03:01:00+00:00   \n",
       "\n",
       "                        end  duration  \n",
       "0 2017-07-03 20:19:42+00:00  148722.0  \n",
       "1 2017-07-03 20:19:42+00:00  148722.0  "
      ]
     },
     "execution_count": 11,
     "metadata": {},
     "output_type": "execute_result"
    }
   ],
   "source": [
    "kernel_dataset = KernelDataset()\n",
    "kernel_dataset.from_run_summary(run_summary, local_station_id, remote_station_id)\n",
    "kernel_dataset.mini_summary"
   ]
  },
  {
   "cell_type": "markdown",
   "id": "8c901b77-aa18-48cd-b9b8-be58b4c682b5",
   "metadata": {},
   "source": [
    "Note how only the overlapping portions of the runs are kept"
   ]
  },
  {
   "cell_type": "code",
   "execution_count": 12,
   "id": "4e897158-087e-4942-aad7-54b221d2c50a",
   "metadata": {},
   "outputs": [
    {
     "name": "stdout",
     "output_type": "stream",
     "text": [
      "Bands not defined; setting to EMTF BANDS_DEFAULT_FILE\n",
      "/home/kkappler/software/irismt/aurora/aurora/config/emtf_band_setup/bs_test.cfg\n",
      "OK\n"
     ]
    }
   ],
   "source": [
    "cc = ConfigCreator()\n",
    "config = cc.create_from_kernel_dataset(kernel_dataset)"
   ]
  },
  {
   "cell_type": "code",
   "execution_count": 13,
   "id": "ff6efa3b-23b6-4dab-b5ca-8c959a6bb671",
   "metadata": {},
   "outputs": [],
   "source": [
    "for decimation in config.decimations:\n",
    "    decimation.window.type = \"hamming\""
   ]
  },
  {
   "cell_type": "code",
   "execution_count": 14,
   "id": "367b5849-d933-4191-8e26-68e4f4e23f77",
   "metadata": {},
   "outputs": [
    {
     "name": "stderr",
     "output_type": "stream",
     "text": [
      "2022-10-16 14:29:06,538 [line 2811] mth5.groups.master_station_run_channel.Magnetic.time_slice - ERROR: Requested slice is larger than data.  Slice length = 152291328, data length = (243284989,) Check start and end times.\n"
     ]
    },
    {
     "ename": "ValueError",
     "evalue": "Requested slice is larger than data.  Slice length = 152291328, data length = (243284989,) Check start and end times.",
     "output_type": "error",
     "traceback": [
      "\u001b[0;31m---------------------------------------------------------------------------\u001b[0m",
      "\u001b[0;31mValueError\u001b[0m                                Traceback (most recent call last)",
      "\u001b[0;32m/tmp/ipykernel_9002/2463673138.py\u001b[0m in \u001b[0;36m<module>\u001b[0;34m\u001b[0m\n\u001b[1;32m      4\u001b[0m                     \u001b[0munits\u001b[0m\u001b[0;34m=\u001b[0m\u001b[0;34m\"MT\"\u001b[0m\u001b[0;34m,\u001b[0m\u001b[0;34m\u001b[0m\u001b[0;34m\u001b[0m\u001b[0m\n\u001b[1;32m      5\u001b[0m                     \u001b[0mshow_plot\u001b[0m\u001b[0;34m=\u001b[0m\u001b[0mshow_plot\u001b[0m\u001b[0;34m,\u001b[0m\u001b[0;34m\u001b[0m\u001b[0;34m\u001b[0m\u001b[0m\n\u001b[0;32m----> 6\u001b[0;31m                     \u001b[0mz_file_path\u001b[0m\u001b[0;34m=\u001b[0m\u001b[0;32mNone\u001b[0m\u001b[0;34m,\u001b[0m\u001b[0;34m\u001b[0m\u001b[0;34m\u001b[0m\u001b[0m\n\u001b[0m\u001b[1;32m      7\u001b[0m                 )\n",
      "\u001b[0;32m~/software/irismt/aurora/aurora/pipelines/process_mth5.py\u001b[0m in \u001b[0;36mprocess_mth5\u001b[0;34m(config, tfk_dataset, units, show_plot, z_file_path, return_collection)\u001b[0m\n\u001b[1;32m    339\u001b[0m     \u001b[0;31m# Assign additional columns to dataset_df, populate with mth5_objs and xr_ts\u001b[0m\u001b[0;34m\u001b[0m\u001b[0;34m\u001b[0m\u001b[0;34m\u001b[0m\u001b[0m\n\u001b[1;32m    340\u001b[0m     \u001b[0;31m# ANY MERGING OF RUNS IN TIME DOMAIN WOULD GO HERE\u001b[0m\u001b[0;34m\u001b[0m\u001b[0;34m\u001b[0m\u001b[0;34m\u001b[0m\u001b[0m\n\u001b[0;32m--> 341\u001b[0;31m     \u001b[0mtfk_dataset\u001b[0m\u001b[0;34m.\u001b[0m\u001b[0minitialize_dataframe_for_processing\u001b[0m\u001b[0;34m(\u001b[0m\u001b[0mmth5_objs\u001b[0m\u001b[0;34m)\u001b[0m\u001b[0;34m\u001b[0m\u001b[0;34m\u001b[0m\u001b[0m\n\u001b[0m\u001b[1;32m    342\u001b[0m     \u001b[0mdataset_df\u001b[0m \u001b[0;34m=\u001b[0m \u001b[0mtfk_dataset\u001b[0m\u001b[0;34m.\u001b[0m\u001b[0mdf\u001b[0m\u001b[0;34m\u001b[0m\u001b[0;34m\u001b[0m\u001b[0m\n\u001b[1;32m    343\u001b[0m \u001b[0;34m\u001b[0m\u001b[0m\n",
      "\u001b[0;32m~/software/irismt/aurora/aurora/transfer_function/kernel_dataset.py\u001b[0m in \u001b[0;36minitialize_dataframe_for_processing\u001b[0;34m(self, mth5_objs)\u001b[0m\n\u001b[1;32m    313\u001b[0m             )\n\u001b[1;32m    314\u001b[0m             \u001b[0mself\u001b[0m\u001b[0;34m.\u001b[0m\u001b[0mdf\u001b[0m\u001b[0;34m[\u001b[0m\u001b[0;34m\"run_reference\"\u001b[0m\u001b[0;34m]\u001b[0m\u001b[0;34m.\u001b[0m\u001b[0mat\u001b[0m\u001b[0;34m[\u001b[0m\u001b[0mi\u001b[0m\u001b[0;34m]\u001b[0m \u001b[0;34m=\u001b[0m \u001b[0mrun_obj\u001b[0m\u001b[0;34m.\u001b[0m\u001b[0mhdf5_group\u001b[0m\u001b[0;34m.\u001b[0m\u001b[0mref\u001b[0m\u001b[0;34m\u001b[0m\u001b[0;34m\u001b[0m\u001b[0m\n\u001b[0;32m--> 315\u001b[0;31m             \u001b[0mrun_ts\u001b[0m \u001b[0;34m=\u001b[0m \u001b[0mrun_obj\u001b[0m\u001b[0;34m.\u001b[0m\u001b[0mto_runts\u001b[0m\u001b[0;34m(\u001b[0m\u001b[0mstart\u001b[0m\u001b[0;34m=\u001b[0m\u001b[0mrow\u001b[0m\u001b[0;34m.\u001b[0m\u001b[0mstart\u001b[0m\u001b[0;34m,\u001b[0m \u001b[0mend\u001b[0m\u001b[0;34m=\u001b[0m\u001b[0mrow\u001b[0m\u001b[0;34m.\u001b[0m\u001b[0mend\u001b[0m\u001b[0;34m)\u001b[0m\u001b[0;34m\u001b[0m\u001b[0;34m\u001b[0m\u001b[0m\n\u001b[0m\u001b[1;32m    316\u001b[0m             \u001b[0mxr_ds\u001b[0m \u001b[0;34m=\u001b[0m \u001b[0mrun_ts\u001b[0m\u001b[0;34m.\u001b[0m\u001b[0mdataset\u001b[0m\u001b[0;34m\u001b[0m\u001b[0;34m\u001b[0m\u001b[0m\n\u001b[1;32m    317\u001b[0m             \u001b[0mself\u001b[0m\u001b[0;34m.\u001b[0m\u001b[0mdf\u001b[0m\u001b[0;34m[\u001b[0m\u001b[0;34m\"run_dataarray\"\u001b[0m\u001b[0;34m]\u001b[0m\u001b[0;34m.\u001b[0m\u001b[0mat\u001b[0m\u001b[0;34m[\u001b[0m\u001b[0mi\u001b[0m\u001b[0;34m]\u001b[0m \u001b[0;34m=\u001b[0m \u001b[0mxr_ds\u001b[0m\u001b[0;34m.\u001b[0m\u001b[0mto_array\u001b[0m\u001b[0;34m(\u001b[0m\u001b[0;34m\"channel\"\u001b[0m\u001b[0;34m)\u001b[0m\u001b[0;34m\u001b[0m\u001b[0;34m\u001b[0m\u001b[0m\n",
      "\u001b[0;32m~/software/irismt/mth5/mth5/groups/master_station_run_channel.py\u001b[0m in \u001b[0;36mto_runts\u001b[0;34m(self, start, end, n_samples)\u001b[0m\n\u001b[1;32m   1627\u001b[0m \u001b[0;34m\u001b[0m\u001b[0m\n\u001b[1;32m   1628\u001b[0m             \u001b[0;32mif\u001b[0m \u001b[0mstart\u001b[0m \u001b[0;32mis\u001b[0m \u001b[0;32mnot\u001b[0m \u001b[0;32mNone\u001b[0m\u001b[0;34m:\u001b[0m\u001b[0;34m\u001b[0m\u001b[0;34m\u001b[0m\u001b[0m\n\u001b[0;32m-> 1629\u001b[0;31m                 \u001b[0mts_obj\u001b[0m \u001b[0;34m=\u001b[0m \u001b[0mch_obj\u001b[0m\u001b[0;34m.\u001b[0m\u001b[0mtime_slice\u001b[0m\u001b[0;34m(\u001b[0m\u001b[0mstart\u001b[0m\u001b[0;34m,\u001b[0m \u001b[0mend\u001b[0m\u001b[0;34m=\u001b[0m\u001b[0mend\u001b[0m\u001b[0;34m,\u001b[0m \u001b[0mn_samples\u001b[0m\u001b[0;34m=\u001b[0m\u001b[0mn_samples\u001b[0m\u001b[0;34m)\u001b[0m\u001b[0;34m\u001b[0m\u001b[0;34m\u001b[0m\u001b[0m\n\u001b[0m\u001b[1;32m   1630\u001b[0m             \u001b[0;32melse\u001b[0m\u001b[0;34m:\u001b[0m\u001b[0;34m\u001b[0m\u001b[0;34m\u001b[0m\u001b[0m\n\u001b[1;32m   1631\u001b[0m                 \u001b[0mts_obj\u001b[0m \u001b[0;34m=\u001b[0m \u001b[0mch_obj\u001b[0m\u001b[0;34m.\u001b[0m\u001b[0mto_channel_ts\u001b[0m\u001b[0;34m(\u001b[0m\u001b[0;34m)\u001b[0m\u001b[0;34m\u001b[0m\u001b[0;34m\u001b[0m\u001b[0m\n",
      "\u001b[0;32m~/software/irismt/mth5/mth5/groups/master_station_run_channel.py\u001b[0m in \u001b[0;36mtime_slice\u001b[0;34m(self, start, end, n_samples, return_type)\u001b[0m\n\u001b[1;32m   2810\u001b[0m             )\n\u001b[1;32m   2811\u001b[0m             \u001b[0mself\u001b[0m\u001b[0;34m.\u001b[0m\u001b[0mlogger\u001b[0m\u001b[0;34m.\u001b[0m\u001b[0merror\u001b[0m\u001b[0;34m(\u001b[0m\u001b[0mmsg\u001b[0m\u001b[0;34m)\u001b[0m\u001b[0;34m\u001b[0m\u001b[0;34m\u001b[0m\u001b[0m\n\u001b[0;32m-> 2812\u001b[0;31m             \u001b[0;32mraise\u001b[0m \u001b[0mValueError\u001b[0m\u001b[0;34m(\u001b[0m\u001b[0mmsg\u001b[0m\u001b[0;34m)\u001b[0m\u001b[0;34m\u001b[0m\u001b[0;34m\u001b[0m\u001b[0m\n\u001b[0m\u001b[1;32m   2813\u001b[0m         \u001b[0;31m# create a regional reference that can be used, need +1 to be inclusive\u001b[0m\u001b[0;34m\u001b[0m\u001b[0;34m\u001b[0m\u001b[0;34m\u001b[0m\u001b[0m\n\u001b[1;32m   2814\u001b[0m         \u001b[0;32mtry\u001b[0m\u001b[0;34m:\u001b[0m\u001b[0;34m\u001b[0m\u001b[0;34m\u001b[0m\u001b[0m\n",
      "\u001b[0;31mValueError\u001b[0m: Requested slice is larger than data.  Slice length = 152291328, data length = (243284989,) Check start and end times."
     ]
    }
   ],
   "source": [
    "show_plot = True\n",
    "tf_cls = process_mth5(config,\n",
    "                    kernel_dataset,\n",
    "                    units=\"MT\",\n",
    "                    show_plot=show_plot,\n",
    "                    z_file_path=None,\n",
    "                )"
   ]
  },
  {
   "cell_type": "markdown",
   "id": "0e1333c6-6b1d-489f-98fc-1f9245156de8",
   "metadata": {},
   "source": [
    "Not sure what the issue is here, but maybe something to do with the vary large file."
   ]
  },
  {
   "cell_type": "code",
   "execution_count": 2,
   "id": "953ae298-7ec5-4d8a-a9a5-dd321f564278",
   "metadata": {},
   "outputs": [],
   "source": [
    "slice_length = 152291328\n",
    "data_length  = 243284989"
   ]
  },
  {
   "cell_type": "markdown",
   "id": "5d4793c7-c0a4-437a-ab89-938c1fb71d71",
   "metadata": {},
   "source": [
    "A reasonable thing to try is to shorten the time window"
   ]
  },
  {
   "cell_type": "code",
   "execution_count": 12,
   "id": "e0247fc9-a212-4c1b-b7ae-77ae57daeef1",
   "metadata": {},
   "outputs": [],
   "source": [
    "kernel_dataset.df.start += pd.Timedelta(\"12h\")  #Snip 6h off the front\n",
    "kernel_dataset.df.end -= pd.Timedelta(\"12h\")"
   ]
  },
  {
   "cell_type": "code",
   "execution_count": 13,
   "id": "ac2ae20b-cce8-4349-9b90-5c14e27f2b50",
   "metadata": {},
   "outputs": [
    {
     "data": {
      "text/html": [
       "<div>\n",
       "<style scoped>\n",
       "    .dataframe tbody tr th:only-of-type {\n",
       "        vertical-align: middle;\n",
       "    }\n",
       "\n",
       "    .dataframe tbody tr th {\n",
       "        vertical-align: top;\n",
       "    }\n",
       "\n",
       "    .dataframe thead th {\n",
       "        text-align: right;\n",
       "    }\n",
       "</style>\n",
       "<table border=\"1\" class=\"dataframe\">\n",
       "  <thead>\n",
       "    <tr style=\"text-align: right;\">\n",
       "      <th></th>\n",
       "      <th>survey</th>\n",
       "      <th>station_id</th>\n",
       "      <th>run_id</th>\n",
       "      <th>start</th>\n",
       "      <th>end</th>\n",
       "      <th>duration</th>\n",
       "    </tr>\n",
       "  </thead>\n",
       "  <tbody>\n",
       "    <tr>\n",
       "      <th>0</th>\n",
       "      <td>yellowstone</td>\n",
       "      <td>wb280</td>\n",
       "      <td>sr1024_0001</td>\n",
       "      <td>2017-07-02 15:01:00+00:00</td>\n",
       "      <td>2017-07-03 08:19:42+00:00</td>\n",
       "      <td>148722.0</td>\n",
       "    </tr>\n",
       "    <tr>\n",
       "      <th>1</th>\n",
       "      <td>yellowstone</td>\n",
       "      <td>wb380</td>\n",
       "      <td>sr1024_0001</td>\n",
       "      <td>2017-07-02 15:01:00+00:00</td>\n",
       "      <td>2017-07-03 08:19:42+00:00</td>\n",
       "      <td>148722.0</td>\n",
       "    </tr>\n",
       "  </tbody>\n",
       "</table>\n",
       "</div>"
      ],
      "text/plain": [
       "        survey station_id       run_id                     start  \\\n",
       "0  yellowstone      wb280  sr1024_0001 2017-07-02 15:01:00+00:00   \n",
       "1  yellowstone      wb380  sr1024_0001 2017-07-02 15:01:00+00:00   \n",
       "\n",
       "                        end  duration  \n",
       "0 2017-07-03 08:19:42+00:00  148722.0  \n",
       "1 2017-07-03 08:19:42+00:00  148722.0  "
      ]
     },
     "execution_count": 13,
     "metadata": {},
     "output_type": "execute_result"
    }
   ],
   "source": [
    "kernel_dataset.mini_summary"
   ]
  },
  {
   "cell_type": "code",
   "execution_count": 14,
   "id": "76ab8d6f-b654-474f-9e6d-23f7a42c6727",
   "metadata": {},
   "outputs": [
    {
     "name": "stdout",
     "output_type": "stream",
     "text": [
      "Bands not defined; setting to EMTF BANDS_DEFAULT_FILE\n",
      "/home/kkappler/software/irismt/aurora/aurora/config/emtf_band_setup/bs_test.cfg\n",
      "OK\n"
     ]
    }
   ],
   "source": [
    "cc = ConfigCreator()\n",
    "config = cc.create_from_kernel_dataset(kernel_dataset)"
   ]
  },
  {
   "cell_type": "code",
   "execution_count": 15,
   "id": "7ad43b0d-5381-4b36-9653-a7043b84fba0",
   "metadata": {},
   "outputs": [
    {
     "name": "stdout",
     "output_type": "stream",
     "text": [
      "DATASET DF POPULATED\n",
      "Processing config indicates 4 decimation levels \n",
      "DATASET DF UPDATED\n"
     ]
    },
    {
     "name": "stderr",
     "output_type": "stream",
     "text": [
      "2022-10-16 18:26:21,580 [line 222] mt_metadata.base.metadata.frequency_response_table_filter.complex_response - WARNING: Extrapolating, use values outside calibration frequencies with caution\n",
      "2022-10-16 18:26:21,879 [line 222] mt_metadata.base.metadata.frequency_response_table_filter.complex_response - WARNING: Extrapolating, use values outside calibration frequencies with caution\n",
      "2022-10-16 18:26:22,150 [line 222] mt_metadata.base.metadata.frequency_response_table_filter.complex_response - WARNING: Extrapolating, use values outside calibration frequencies with caution\n",
      "2022-10-16 18:27:26,820 [line 222] mt_metadata.base.metadata.frequency_response_table_filter.complex_response - WARNING: Extrapolating, use values outside calibration frequencies with caution\n",
      "2022-10-16 18:27:27,106 [line 222] mt_metadata.base.metadata.frequency_response_table_filter.complex_response - WARNING: Extrapolating, use values outside calibration frequencies with caution\n",
      "2022-10-16 18:27:27,363 [line 222] mt_metadata.base.metadata.frequency_response_table_filter.complex_response - WARNING: Extrapolating, use values outside calibration frequencies with caution\n"
     ]
    },
    {
     "name": "stdout",
     "output_type": "stream",
     "text": [
      "Processing band 0.025126s\n",
      "Processing band 0.019462s\n",
      "Processing band 0.014809s\n",
      "Processing band 0.011471s\n",
      "Processing band 0.008980s\n",
      "Processing band 0.007190s\n",
      "Processing band 0.005719s\n",
      "Processing band 0.004573s\n"
     ]
    },
    {
     "data": {
      "image/png": "[encoded data removed]",
      "text/plain": [
       "<Figure size 432x288 with 2 Axes>"
      ]
     },
     "metadata": {
      "needs_background": "light"
     },
     "output_type": "display_data"
    },
    {
     "name": "stdout",
     "output_type": "stream",
     "text": [
      "DECIMATION LEVEL 1\n",
      "DATASET DF UPDATED\n"
     ]
    },
    {
     "name": "stderr",
     "output_type": "stream",
     "text": [
      "2022-10-16 18:46:15,738 [line 222] mt_metadata.base.metadata.frequency_response_table_filter.complex_response - WARNING: Extrapolating, use values outside calibration frequencies with caution\n",
      "2022-10-16 18:46:15,832 [line 222] mt_metadata.base.metadata.frequency_response_table_filter.complex_response - WARNING: Extrapolating, use values outside calibration frequencies with caution\n",
      "2022-10-16 18:46:15,932 [line 222] mt_metadata.base.metadata.frequency_response_table_filter.complex_response - WARNING: Extrapolating, use values outside calibration frequencies with caution\n",
      "2022-10-16 18:46:26,768 [line 222] mt_metadata.base.metadata.frequency_response_table_filter.complex_response - WARNING: Extrapolating, use values outside calibration frequencies with caution\n",
      "2022-10-16 18:46:26,856 [line 222] mt_metadata.base.metadata.frequency_response_table_filter.complex_response - WARNING: Extrapolating, use values outside calibration frequencies with caution\n",
      "2022-10-16 18:46:26,944 [line 222] mt_metadata.base.metadata.frequency_response_table_filter.complex_response - WARNING: Extrapolating, use values outside calibration frequencies with caution\n"
     ]
    },
    {
     "name": "stdout",
     "output_type": "stream",
     "text": [
      "Processing band 0.100504s\n",
      "Processing band 0.083624s\n",
      "Processing band 0.067267s\n",
      "Processing band 0.052926s\n",
      "Processing band 0.041996s\n",
      "Processing band 0.032530s\n"
     ]
    },
    {
     "data": {
      "image/png": "[encoded data removed]",
      "text/plain": [
       "<Figure size 432x288 with 2 Axes>"
      ]
     },
     "metadata": {
      "needs_background": "light"
     },
     "output_type": "display_data"
    },
    {
     "name": "stdout",
     "output_type": "stream",
     "text": [
      "DECIMATION LEVEL 2\n",
      "DATASET DF UPDATED\n"
     ]
    },
    {
     "name": "stderr",
     "output_type": "stream",
     "text": [
      "2022-10-16 18:48:30,932 [line 222] mt_metadata.base.metadata.frequency_response_table_filter.complex_response - WARNING: Extrapolating, use values outside calibration frequencies with caution\n",
      "2022-10-16 18:48:30,994 [line 222] mt_metadata.base.metadata.frequency_response_table_filter.complex_response - WARNING: Extrapolating, use values outside calibration frequencies with caution\n",
      "2022-10-16 18:48:31,056 [line 222] mt_metadata.base.metadata.frequency_response_table_filter.complex_response - WARNING: Extrapolating, use values outside calibration frequencies with caution\n",
      "2022-10-16 18:48:34,259 [line 222] mt_metadata.base.metadata.frequency_response_table_filter.complex_response - WARNING: Extrapolating, use values outside calibration frequencies with caution\n",
      "2022-10-16 18:48:34,322 [line 222] mt_metadata.base.metadata.frequency_response_table_filter.complex_response - WARNING: Extrapolating, use values outside calibration frequencies with caution\n",
      "2022-10-16 18:48:34,393 [line 222] mt_metadata.base.metadata.frequency_response_table_filter.complex_response - WARNING: Extrapolating, use values outside calibration frequencies with caution\n"
     ]
    },
    {
     "name": "stdout",
     "output_type": "stream",
     "text": [
      "Processing band 0.402015s\n",
      "Processing band 0.334497s\n",
      "Processing band 0.269069s\n",
      "Processing band 0.211702s\n",
      "Processing band 0.167984s\n",
      "Processing band 0.130120s\n"
     ]
    },
    {
     "data": {
      "image/png": "[encoded data removed]",
      "text/plain": [
       "<Figure size 432x288 with 2 Axes>"
      ]
     },
     "metadata": {
      "needs_background": "light"
     },
     "output_type": "display_data"
    },
    {
     "name": "stdout",
     "output_type": "stream",
     "text": [
      "DECIMATION LEVEL 3\n",
      "DATASET DF UPDATED\n"
     ]
    },
    {
     "name": "stderr",
     "output_type": "stream",
     "text": [
      "2022-10-16 18:49:14,489 [line 222] mt_metadata.base.metadata.frequency_response_table_filter.complex_response - WARNING: Extrapolating, use values outside calibration frequencies with caution\n",
      "2022-10-16 18:49:14,544 [line 222] mt_metadata.base.metadata.frequency_response_table_filter.complex_response - WARNING: Extrapolating, use values outside calibration frequencies with caution\n",
      "2022-10-16 18:49:14,599 [line 222] mt_metadata.base.metadata.frequency_response_table_filter.complex_response - WARNING: Extrapolating, use values outside calibration frequencies with caution\n",
      "2022-10-16 18:49:15,667 [line 222] mt_metadata.base.metadata.frequency_response_table_filter.complex_response - WARNING: Extrapolating, use values outside calibration frequencies with caution\n",
      "2022-10-16 18:49:15,726 [line 222] mt_metadata.base.metadata.frequency_response_table_filter.complex_response - WARNING: Extrapolating, use values outside calibration frequencies with caution\n",
      "2022-10-16 18:49:15,837 [line 222] mt_metadata.base.metadata.frequency_response_table_filter.complex_response - WARNING: Extrapolating, use values outside calibration frequencies with caution\n"
     ]
    },
    {
     "name": "stdout",
     "output_type": "stream",
     "text": [
      "Processing band 1.479201s\n",
      "Processing band 1.018056s\n",
      "Processing band 0.706417s\n",
      "Processing band 0.520480s\n",
      "Processing band 0.403162s\n"
     ]
    },
    {
     "data": {
      "image/png": "[encoded data removed]",
      "text/plain": [
       "<Figure size 432x288 with 2 Axes>"
      ]
     },
     "metadata": {
      "needs_background": "light"
     },
     "output_type": "display_data"
    },
    {
     "name": "stderr",
     "output_type": "stream",
     "text": [
      "2022-10-16 18:49:32,208 [line 753] mth5.mth5.MTH5.close_mth5 - INFO: Flushing and closing ../../data/time_series/zen/from_z3d.h5\n",
      "2022-10-16 18:49:32,283 [line 753] mth5.mth5.MTH5.close_mth5 - INFO: Flushing and closing ../../data/time_series/zen/from_z3d.h5\n"
     ]
    }
   ],
   "source": [
    "show_plot = True\n",
    "tf_cls = process_mth5(config,\n",
    "                    kernel_dataset,\n",
    "                    units=\"MT\",\n",
    "                    show_plot=show_plot,\n",
    "                    z_file_path=None,\n",
    "                )"
   ]
  },
  {
   "cell_type": "code",
   "execution_count": null,
   "id": "7b7d30e9-1825-428b-93a4-52b186f2c768",
   "metadata": {},
   "outputs": [],
   "source": []
  }
 ],
 "metadata": {
  "kernelspec": {
   "display_name": "aurora-test",
   "language": "python",
   "name": "aurora-test"
  },
  "language_info": {
   "codemirror_mode": {
    "name": "ipython",
    "version": 3
   },
   "file_extension": ".py",
   "mimetype": "text/x-python",
   "name": "python",
   "nbconvert_exporter": "python",
   "pygments_lexer": "ipython3",
   "version": "3.9.19"
  }
 },
 "nbformat": 4,
 "nbformat_minor": 5
}
