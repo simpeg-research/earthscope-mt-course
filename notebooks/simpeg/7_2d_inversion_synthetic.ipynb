{
 "cells": [
  {
   "cell_type": "markdown",
   "id": "50a5b9d2",
   "metadata": {
    "iooxa": {
     "id": {
      "block": "POo5Xko96YBlOmmEgRhw",
      "project": "BZ9XlZu3TFKIem4fwsfm",
      "version": 1
     },
     "outputId": null
    }
   },
   "source": [
    "# 2D MT inversion\n",
    "\n",
    "## Learning goals\n",
    "\n",
    "- Understand the impact of frequencies (start from a couple of frequencies, and more)\n",
    "- Understand the impact of station spacing\n",
    "- Understand the impact of `alpha_s`, `alpha_x`, `alpha_y`\n",
    "- Understand the impact of `p_s`, `p_y`, `p_z`"
   ]
  },
  {
   "cell_type": "code",
   "execution_count": 4,
   "id": "ecd430f1",
   "metadata": {},
   "outputs": [],
   "source": [
    "import matplotlib.pyplot as plt\n",
    "import scipy.sparse as sp\n",
    "import numpy as np\n",
    "import unittest\n",
    "from scipy.constants import mu_0\n",
    "from discretize.tests import check_derivative\n",
    "import discretize\n",
    "import matplotlib.patheffects as pe\n",
    "from simpeg.electromagnetics import natural_source as nsem\n",
    "from simpeg.electromagnetics.static import utils as sutils\n",
    "from simpeg import (\n",
    "    maps, utils, optimization, objective_function, inversion, inverse_problem, directives,\n",
    "    data_misfit, regularization, data\n",
    ")\n",
    "from discretize import TensorMesh\n",
    "from pymatsolver import Pardiso\n",
    "from scipy.spatial import cKDTree\n",
    "from scipy.stats import norm\n",
    "# from dask.distributed import Client, LocalCluster\n",
    "import dill\n",
    "from geoana.em.fdem import skin_depth\n",
    "import discretize.utils as dis_utils\n",
    "import warnings\n",
    "warnings.filterwarnings(\"ignore\")\n",
    "\n",
    "def generate_2d_mesh_for_mt(\n",
    "    rx_locs, frequencies, sigma_background, \n",
    "    z_factor_max=5, \n",
    "    z_factor_min=5,\n",
    "    pfz_down = 1.2,\n",
    "    pfz_up = 1.5,\n",
    "    npadz_up = 5,\n",
    "    x_factor_max = 2,\n",
    "    spacing_factor = 4,\n",
    "    pfx = 1.5,\n",
    "    n_max=1000\n",
    "):\n",
    "    # Setting the cells in depth dimension\n",
    "    f_min = frequencies.min()\n",
    "    f_max = frequencies.max()\n",
    "    dz_min = np.round(skin_depth(f_max, sigma_background) / z_factor_max) \n",
    "    lz = skin_depth(sigma_background, f_min) * z_factor_max\n",
    "    # Setting the domain length in z-direction\n",
    "    for nz_down in range(n_max):\n",
    "        hz_down = dz_min*pfz_down**np.arange(nz_down)[::-1]\n",
    "        if hz_down.sum()>lz:\n",
    "            break\n",
    "    hz_up = [(dz_min, npadz_up, pfz_up)]\n",
    "    hz_up = dis_utils.unpack_widths(hz_up)\n",
    "    hz = np.r_[hz_down, hz_up]   \n",
    "    # Setting the cells in lateral dimension\n",
    "    d_station = np.diff(rx_locs[:,0]).min()\n",
    "    dx_min = np.round(d_station/spacing_factor)\n",
    "    lx = rx_locs[:,0].max() - rx_locs[:,0].min()\n",
    "    ncx = int(lx / dx_min)\n",
    "    lx_pad = skin_depth(sigma_background, f_min) * x_factor_max\n",
    "    for npadx in range(n_max):\n",
    "        hx_pad = dis_utils.unpack_widths([(dx_min, npadx, -pfx)])\n",
    "        if hx_pad.sum()>lx_pad:\n",
    "            break\n",
    "    hx = [(dx_min, npadx, -pfx), (dx_min, ncx), (dx_min, npadx, pfx)]  \n",
    "    \n",
    "    mesh = discretize.TensorMesh([hx, hz])\n",
    "    mesh.origin = np.r_[-mesh.h[0][:npadx].sum()+rx_locs[:,0].min(), -hz_down.sum()]   \n",
    "    print (mesh)\n",
    "    return mesh"
   ]
  },
  {
   "cell_type": "code",
   "execution_count": 5,
   "id": "168aad96",
   "metadata": {
    "iooxa": {
     "id": {
      "block": "xSsHEuDc1xiba098wWvR",
      "project": "BZ9XlZu3TFKIem4fwsfm",
      "version": 1
     },
     "outputId": null
    }
   },
   "outputs": [
    {
     "name": "stdout",
     "output_type": "stream",
     "text": [
      "\n",
      "  TensorMesh: 1,518 cells\n",
      "\n",
      "                      MESH EXTENT             CELL WIDTH      FACTOR\n",
      "  dir    nC        min           max         min       max      max\n",
      "  ---   ---  ---------------------------  ------------------  ------\n",
      "   x     46   -194,773.44    190,773.44  3,000.00 51,257.81    1.50\n",
      "   y     33   -276,897.48      6,686.06    338.00 46,431.25    1.50\n",
      "\n",
      "\n",
      "Rx\n",
      "[[-50000.      0.]\n",
      " [-38000.      0.]\n",
      " [-26000.      0.]\n",
      " [-14000.      0.]\n",
      " [ -2000.      0.]\n",
      " [ 10000.      0.]\n",
      " [ 22000.      0.]\n",
      " [ 34000.      0.]\n",
      " [ 46000.      0.]]\n",
      "Freqs\n",
      "[0.01       0.29763514 8.8586679 ]\n"
     ]
    }
   ],
   "source": [
    "input_data = dill.load(open(\"./synthetic_2d.pik\", \"rb\"))\n",
    "nskip_freq = 7\n",
    "nskip_rx = 3\n",
    "# a decent setup\n",
    "# nskip_freq = 7\n",
    "# nskip_rx = 3\n",
    "relative_error =  0.05\n",
    "floor_error = 2\n",
    "alpha_s = 1e-5\n",
    "alpha_y = 1/5.\n",
    "alpha_z = 1.\n",
    "rho_0 = 100.\n",
    "maxIter = 30\n",
    "use_irls = False\n",
    "p_s=0\n",
    "p_y=0\n",
    "p_z=0\n",
    "\n",
    "rx_locs = input_data['rx_locs'][::nskip_rx,:]\n",
    "frequencies = input_data['frequencies'][::nskip_freq]\n",
    "app_rho_te = input_data['app_rho_te'][::nskip_freq,::nskip_rx]\n",
    "app_rho_tm = input_data['app_rho_tm'][::nskip_freq,::nskip_rx]\n",
    "phase_te = input_data['phase_te'][::nskip_freq,::nskip_rx]\n",
    "phase_tm = input_data['phase_tm'][::nskip_freq,::nskip_rx]\n",
    "\n",
    "\n",
    "app_rho_err_tm = abs(app_rho_tm) * relative_error\n",
    "app_rho_err_te = abs (app_rho_te) * relative_error\n",
    "phase_err_tm = np.ones_like(phase_tm) * floor_error\n",
    "phase_err_te = np.ones_like(phase_te) * floor_error\n",
    "\n",
    "mesh = generate_2d_mesh_for_mt(rx_locs, frequencies, 1e-2)\n",
    "ind_active = mesh.cell_centers[:,1]<0.\n",
    "print (\"Rx\")\n",
    "print (rx_locs)\n",
    "print (\"Freqs\")\n",
    "print (frequencies)"
   ]
  },
  {
   "cell_type": "code",
   "execution_count": 7,
   "id": "b3a68000",
   "metadata": {},
   "outputs": [
    {
     "data": {
      "text/plain": [
       "array([[ 92.03966095,  72.94978406,  45.09520085,  14.5362222 ,\n",
       "          4.66958063,   7.15934661,  37.57795476,  62.25809153,\n",
       "         87.4021696 ],\n",
       "       [101.18525281, 105.56997714, 113.08044529,  92.50994208,\n",
       "         59.74672211,  78.57707178, 110.10270035,  91.97752988,\n",
       "        108.31418248],\n",
       "       [ 88.11105607,  99.11689569,  96.80552074, 102.65309165,\n",
       "        103.18716455,  98.16446623,  94.91160747, 100.48821543,\n",
       "        106.84818165]])"
      ]
     },
     "execution_count": 7,
     "metadata": {},
     "output_type": "execute_result"
    }
   ],
   "source": [
    "app_rho_te"
   ]
  },
  {
   "cell_type": "code",
   "execution_count": 84,
   "id": "a21d3b29",
   "metadata": {
    "iooxa": {
     "id": {
      "block": "BMoZiVPj2FxcaczVrf2x",
      "project": "BZ9XlZu3TFKIem4fwsfm",
      "version": 1
     },
     "outputId": null
    }
   },
   "outputs": [],
   "source": [
    "# simulation class for TM mode\n",
    "rx_list_tm = [\n",
    "    nsem.receivers.PointNaturalSource(\n",
    "        rx_locs, orientation=\"xy\", component=\"apparent_resistivity\"\n",
    "    ),\n",
    "    nsem.receivers.PointNaturalSource(\n",
    "        rx_locs, orientation=\"xy\", component=\"phase\"\n",
    "    ),\n",
    "]\n",
    "src_list_tm = [nsem.sources.Planewave(rx_list_tm, frequency=f) for f in frequencies]\n",
    "survey_tm = nsem.Survey(src_list_tm)\n",
    "\n",
    "act_map = maps.InjectActiveCells(mesh, ind_active, np.log(1e-8))\n",
    "exp_map = maps.ExpMap(mesh=mesh)\n",
    "sigma_map = exp_map * act_map\n",
    "\n",
    "sim_tm= nsem.simulation.Simulation2DElectricField(\n",
    "    mesh,\n",
    "    survey=survey_tm,\n",
    "    sigmaMap=sigma_map,\n",
    "    solver=Pardiso,\n",
    ")\n",
    "\n",
    "# simulation class for TE mode\n",
    "rx_list_te = [\n",
    "    nsem.receivers.PointNaturalSource(\n",
    "        rx_locs, orientation=\"yx\", component=\"apparent_resistivity\"\n",
    "    ),\n",
    "    nsem.receivers.PointNaturalSource(\n",
    "        rx_locs, orientation=\"yx\", component=\"phase\"\n",
    "    ),\n",
    "]\n",
    "src_list_te = [nsem.sources.Planewave(rx_list_te, frequency=f) for f in frequencies]\n",
    "survey_te = nsem.Survey(src_list_te)\n",
    "\n",
    "sim_te = nsem.simulation.Simulation2DMagneticField(\n",
    "    mesh,\n",
    "    survey=survey_te,\n",
    "    sigmaMap=sigma_map,\n",
    "    solver=Pardiso,\n",
    ")"
   ]
  },
  {
   "cell_type": "code",
   "execution_count": 8,
   "id": "0025b53a",
   "metadata": {},
   "outputs": [],
   "source": [
    "dobs_te = np.hstack((app_rho_te, phase_te)).flatten()\n",
    "dobs_tm = np.hstack((app_rho_tm, phase_tm)).flatten()\n",
    "\n",
    "std_te = np.hstack((app_rho_err_te, phase_err_te)).flatten()\n",
    "std_tm = np.hstack((app_rho_err_tm, phase_err_tm)).flatten()"
   ]
  },
  {
   "cell_type": "code",
   "execution_count": 15,
   "id": "c22d86aa",
   "metadata": {},
   "outputs": [
    {
     "name": "stdout",
     "output_type": "stream",
     "text": [
      "[[ 92.03966095  72.94978406  45.09520085  14.5362222    4.66958063\n",
      "    7.15934661  37.57795476  62.25809153  87.4021696 ]\n",
      " [101.18525281 105.56997714 113.08044529  92.50994208  59.74672211\n",
      "   78.57707178 110.10270035  91.97752988 108.31418248]\n",
      " [ 88.11105607  99.11689569  96.80552074 102.65309165 103.18716455\n",
      "   98.16446623  94.91160747 100.48821543 106.84818165]]\n",
      "(3, 9)\n",
      "[[49.7231402  54.80187709 55.9618863  60.19269182 58.46148006 61.00338225\n",
      "  60.20903993 53.87710047 50.18176872]\n",
      " [47.85588758 44.86450692 49.29763955 60.23334109 74.06134282 66.08437104\n",
      "  43.96646727 45.84235379 42.99771971]\n",
      " [46.30077826 43.06365208 44.51905711 43.28714881 44.15391194 45.33739818\n",
      "  42.35920478 46.05878052 43.42801819]]\n",
      "(3, 9)\n",
      "[[ 92.03966095  72.94978406  45.09520085  14.5362222    4.66958063\n",
      "    7.15934661  37.57795476  62.25809153  87.4021696   49.7231402\n",
      "   54.80187709  55.9618863   60.19269182  58.46148006  61.00338225\n",
      "   60.20903993  53.87710047  50.18176872]\n",
      " [101.18525281 105.56997714 113.08044529  92.50994208  59.74672211\n",
      "   78.57707178 110.10270035  91.97752988 108.31418248  47.85588758\n",
      "   44.86450692  49.29763955  60.23334109  74.06134282  66.08437104\n",
      "   43.96646727  45.84235379  42.99771971]\n",
      " [ 88.11105607  99.11689569  96.80552074 102.65309165 103.18716455\n",
      "   98.16446623  94.91160747 100.48821543 106.84818165  46.30077826\n",
      "   43.06365208  44.51905711  43.28714881  44.15391194  45.33739818\n",
      "   42.35920478  46.05878052  43.42801819]]\n"
     ]
    }
   ],
   "source": [
    "print(app_rho_te)\n",
    "print(app_rho_te.shape)\n",
    "print(phase_te)\n",
    "print(phase_te.shape)\n",
    "print(np.hstack((app_rho_te, phase_te)))"
   ]
  },
  {
   "cell_type": "code",
   "execution_count": 86,
   "id": "86aec87c",
   "metadata": {},
   "outputs": [],
   "source": [
    "m0 = np.ones(ind_active.sum()) * np.log(1./rho_0)"
   ]
  },
  {
   "cell_type": "code",
   "execution_count": 87,
   "id": "bf7ccccb",
   "metadata": {
    "iooxa": {
     "id": {
      "block": "jooCIWTXkEsG2QDbdYRO",
      "project": "BZ9XlZu3TFKIem4fwsfm",
      "version": 1
     },
     "outputId": {
      "block": "r64s82e8aDhQ3dZZROve",
      "project": "BZ9XlZu3TFKIem4fwsfm",
      "version": 1
     }
    },
    "scrolled": false
   },
   "outputs": [
    {
     "name": "stdout",
     "output_type": "stream",
     "text": [
      "\n",
      "        SimPEG.InvProblem is setting bfgsH0 to the inverse of the eval2Deriv.\n",
      "        ***Done using same Solver and solver_opts as the Simulation2DMagneticField problem***\n",
      "model has any nan: 0\n",
      "============================ Inexact Gauss Newton ============================\n",
      "  #     beta     phi_d     phi_m       f      |proj(x-g)-x|  LS    Comment   \n",
      "-----------------------------------------------------------------------------\n",
      "x0 has any nan: 0\n",
      "   0  9.28e-05  1.35e+05  0.00e+00  1.35e+05    2.89e+04      0              \n",
      "   1  4.64e-05  2.07e+04  1.64e+05  2.07e+04    4.20e+03      0              \n",
      "   2  2.32e-05  5.27e+03  6.64e+06  5.42e+03    1.16e+03      0   Skip BFGS  \n",
      "   3  1.16e-05  9.39e+02  1.61e+07  1.13e+03    2.41e+02      0              \n",
      "   4  5.80e-06  3.89e+02  2.48e+07  5.33e+02    3.96e+01      0   Skip BFGS  \n",
      "   5  2.90e-06  2.27e+02  3.12e+07  3.17e+02    2.99e+01      0              \n",
      "   6  1.45e-06  9.23e+01  4.90e+07  1.63e+02    1.62e+01      0              \n",
      "   7  7.25e-07  5.40e+01  6.04e+07  9.78e+01    1.56e+01      0   Skip BFGS  \n",
      "------------------------- STOP! -------------------------\n",
      "1 : |fc-fOld| = 0.0000e+00 <= tolF*(1+|f0|) = 1.3538e+04\n",
      "1 : |xc-x_last| = 4.1616e+00 <= tolX*(1+|x0|) = 1.6627e+01\n",
      "0 : |proj(x-g)-x|    = 1.5637e+01 <= tolG          = 1.0000e-01\n",
      "0 : |proj(x-g)-x|    = 1.5637e+01 <= 1e3*eps       = 1.0000e-02\n",
      "0 : maxIter   =      30    <= iter          =      8\n",
      "------------------------- DONE! -------------------------\n",
      "CPU times: total: 3min 6s\n",
      "Wall time: 31.3 s\n"
     ]
    }
   ],
   "source": [
    "%%time\n",
    "\n",
    "te_data_object = data.Data(survey_te, dobs=dobs_te, standard_deviation=std_te) \n",
    "tm_data_object = data.Data(survey_tm, dobs=dobs_tm, standard_deviation=std_tm) \n",
    "dmis_te = data_misfit.L2DataMisfit(data=te_data_object, simulation=sim_te)\n",
    "dmis_tm = data_misfit.L2DataMisfit(data=tm_data_object, simulation=sim_tm)\n",
    "dmis = dmis_te + dmis_tm\n",
    "\n",
    "# Define the regularization (model objective function)\n",
    "reg = regularization.Sparse(\n",
    "    mesh,\n",
    "    indActive=ind_active,\n",
    "    mref=m0,\n",
    "    alpha_s=alpha_s,\n",
    "    alpha_x=alpha_y,\n",
    "    alpha_y=alpha_z,\n",
    "    mapping=maps.IdentityMap(nP=int(ind_active.sum()))\n",
    ")\n",
    "\n",
    "# Define how the optimization problem is solved. Here we will use an\n",
    "# Inexact Gauss Newton approach.\n",
    "opt = optimization.InexactGaussNewton(maxIter=maxIter, maxIterCG=30)\n",
    "\n",
    "# Here we define the inverse problem that is to be solved\n",
    "inv_prob = inverse_problem.BaseInvProblem(dmis, reg, opt)\n",
    "\n",
    "#######################################################################\n",
    "# Define MT Inversion Directives\n",
    "# ------------------------------\n",
    "#\n",
    "# Here we define any directives that are carried out during the inversion. This\n",
    "# includes the cooling schedule for the trade-off parameter (beta), stopping\n",
    "# criteria for the inversion and saving inversion results at each iteration.\n",
    "#\n",
    "\n",
    "# Defining a starting value for the trade-off parameter (beta) between the data\n",
    "# misfit and the regularization.\n",
    "starting_beta = directives.BetaEstimate_ByEig(beta0_ratio=1)\n",
    "\n",
    "# Set the rate of reduction in trade-off parameter (beta) each time the\n",
    "# the inverse problem is solved. And set the number of Gauss-Newton iterations\n",
    "# for each trade-off paramter value.\n",
    "beta_schedule = directives.BetaSchedule(coolingFactor=2, coolingRate=1)\n",
    "\n",
    "save_dictionary = directives.SaveOutputDictEveryIteration()\n",
    "save_dictionary.outDict = {}\n",
    "\n",
    "# Setting a stopping criteria for the inversion.\n",
    "target_misfit = directives.TargetMisfit(chifact=1e0)\n",
    "\n",
    "if use_irls:\n",
    "    reg.norms = np.c_[p_s, p_y, p_z]\n",
    "    # Reach target misfit for L2 solution, then use IRLS until model stops changing.\n",
    "    IRLS = directives.Update_IRLS(max_irls_iterations=40, minGNiter=1, f_min_change=1e-5)\n",
    "\n",
    "    # The directives are defined as a list.\n",
    "    directives_list = [\n",
    "        IRLS,\n",
    "        starting_beta,\n",
    "        save_dictionary,\n",
    "    ]\n",
    "else:\n",
    "    directives_list = [\n",
    "        starting_beta,\n",
    "        beta_schedule,\n",
    "        save_dictionary,\n",
    "        target_misfit,\n",
    "    ]\n",
    "\n",
    "    \n",
    "#####################################################################\n",
    "# Running the MT Inversion\n",
    "# ------------------------\n",
    "#\n",
    "# To define the inversion object, we need to define the inversion problem and\n",
    "# the set of directives. We can then run the inversion.\n",
    "#\n",
    "\n",
    "# Here we combine the inverse problem and the set of directives\n",
    "mt_inversion = inversion.BaseInversion(inv_prob, directiveList=directives_list)\n",
    "\n",
    "# Run inversion\n",
    "recovered_conductivity_model = mt_inversion.run(m0)"
   ]
  },
  {
   "cell_type": "code",
   "execution_count": 88,
   "id": "61460e61",
   "metadata": {},
   "outputs": [],
   "source": [
    "output_dict = save_dictionary.outDict\n",
    "target_misfit = (dobs_te.size+dobs_tm.size) / 2.\n",
    "iterations = list(output_dict.keys())\n",
    "n_iteration = len(iterations)\n",
    "phi_ds = np.zeros(n_iteration)\n",
    "phi_ms = np.zeros(n_iteration)\n",
    "betas = np.zeros(n_iteration)\n",
    "for ii, iteration in enumerate(iterations):\n",
    "    phi_ds[ii] = output_dict[iteration]['phi_d']\n",
    "    phi_ms[ii] = output_dict[iteration]['phi_m']\n",
    "    betas[ii] = output_dict[iteration]['beta']"
   ]
  },
  {
   "cell_type": "code",
   "execution_count": 89,
   "id": "f15772bf",
   "metadata": {},
   "outputs": [],
   "source": [
    "import matplotlib\n",
    "matplotlib.rcParams['font.size'] = 14\n",
    "def tikhonov_curve(iteration, scale='log'):\n",
    "    fig, ax = plt.subplots(1,1, figsize=(5,5))\n",
    "    ax.plot(phi_ms, phi_ds)\n",
    "    ax.plot(phi_ms[iteration-1], phi_ds[iteration-1], 'ro')\n",
    "    ax.set_xlabel(\"$\\phi_m$\")\n",
    "    ax.set_ylabel(\"$\\phi_d$\")\n",
    "    if scale == 'log':\n",
    "        ax.set_xscale('log')\n",
    "        ax.set_yscale('log')\n",
    "    xlim = ax.get_xlim()\n",
    "    ax.plot(xlim, np.ones(2) * target_misfit, '--')\n",
    "    ax.set_title(\"Iteration={:d}, Beta = {:.1e}\".format(iteration, betas[iteration-1]))\n",
    "    ax.set_xlim(xlim)\n",
    "    plt.show()"
   ]
  },
  {
   "cell_type": "code",
   "execution_count": 90,
   "id": "edcc7a0b",
   "metadata": {},
   "outputs": [
    {
     "data": {
      "application/vnd.jupyter.widget-view+json": {
       "model_id": "d6e22bf70d9b48a8ae2250d88c351edf",
       "version_major": 2,
       "version_minor": 0
      },
      "text/plain": [
       "interactive(children=(IntSlider(value=8, description='iteration', max=8, min=1), RadioButtons(description='sca…"
      ]
     },
     "metadata": {},
     "output_type": "display_data"
    }
   ],
   "source": [
    "from ipywidgets import interact, widgets\n",
    "Q_iter = interact(\n",
    "    tikhonov_curve, \n",
    "    iteration=widgets.IntSlider(min=1, max=int(n_iteration), value=n_iteration),\n",
    "    scale=widgets.RadioButtons(options=['linear', 'log'])\n",
    ")"
   ]
  },
  {
   "cell_type": "code",
   "execution_count": 91,
   "id": "96321432",
   "metadata": {},
   "outputs": [],
   "source": [
    "from matplotlib.colors import LogNorm\n",
    "mesh_true = input_data['mesh']\n",
    "sigma_true = input_data['sigma']\n",
    "iteration = Q_iter.widget.kwargs['iteration']\n",
    "m = output_dict[iteration]['m']"
   ]
  },
  {
   "cell_type": "code",
   "execution_count": 92,
   "id": "5d342691",
   "metadata": {},
   "outputs": [],
   "source": [
    "def foo_model(iteration):\n",
    "    fig, axs = plt.subplots(2,1, figsize=(10, 6))\n",
    "    ax, ax1 = axs\n",
    "    m = output_dict[iteration]['m']\n",
    "    sigma = np.ones(mesh.nC) * 1e-8\n",
    "    sigma[ind_active] = np.exp(m)\n",
    "    sigma_min = 1e-3\n",
    "    sigma_max = 10\n",
    "    grid= False\n",
    "    out = mesh.plot_image(\n",
    "        sigma, grid=grid, ax=ax, pcolor_opts={'norm':LogNorm(vmin=sigma_min, vmax=sigma_max), 'cmap':'turbo'},\n",
    "        range_x=(-60000, 60000), range_y=(-30000, 0)\n",
    "    )\n",
    "    cb = plt.colorbar(out[0], fraction=0.01, ax=ax)\n",
    "    cb.set_label(\"Conductivity (S/m)\")\n",
    "    ax.set_aspect(1)\n",
    "    ax.set_xlabel(\"Easting (m)\")\n",
    "    ax.set_ylabel(\"Elevation (m)\")\n",
    "    ax.plot(rx_locs[:,0], rx_locs[:,1], 'ro')\n",
    "    out = mesh_true.plot_image(\n",
    "        sigma_true, grid=grid, ax=ax1, pcolor_opts={'norm':LogNorm(vmin=sigma_min, vmax=sigma_max), 'cmap':'turbo'},\n",
    "        range_x=(-60000, 60000), range_y=(-30000, 0)\n",
    "    )\n",
    "    cb = plt.colorbar(out[0], fraction=0.01, ax=ax1)\n",
    "    cb.set_label(\"Conductivity (S/m)\")\n",
    "    ax1.set_aspect(1)\n",
    "    ax1.set_xlabel(\"Easting (m)\")\n",
    "    ax1.set_ylabel(\"Elevation (m)\")"
   ]
  },
  {
   "cell_type": "code",
   "execution_count": 93,
   "id": "1b7cc244",
   "metadata": {},
   "outputs": [
    {
     "data": {
      "application/vnd.jupyter.widget-view+json": {
       "model_id": "e40d4ed9f25d4016ace0c23fc0e5ad0f",
       "version_major": 2,
       "version_minor": 0
      },
      "text/plain": [
       "interactive(children=(IntSlider(value=8, description='iteration', max=8, min=1), Output()), _dom_classes=('wid…"
      ]
     },
     "metadata": {},
     "output_type": "display_data"
    }
   ],
   "source": [
    "Q_misfit = interact(\n",
    "    foo_model, \n",
    "    iteration=widgets.IntSlider(min=1, max=n_iteration, value=iteration),\n",
    ")    "
   ]
  },
  {
   "cell_type": "code",
   "execution_count": 94,
   "id": "07c67555",
   "metadata": {},
   "outputs": [],
   "source": [
    "pred_te = sim_te.dpred(m)\n",
    "pred_tm = sim_tm.dpred(m)"
   ]
  },
  {
   "cell_type": "code",
   "execution_count": 95,
   "id": "46301f08",
   "metadata": {},
   "outputs": [],
   "source": [
    "n_freq = len(frequencies)\n",
    "n_rx = rx_locs.shape[0]"
   ]
  },
  {
   "cell_type": "code",
   "execution_count": 96,
   "id": "794519b9",
   "metadata": {},
   "outputs": [],
   "source": [
    "PRED_te = pred_te.reshape((n_freq, 2, n_rx))\n",
    "PRED_tm = pred_tm.reshape((n_freq, 2, n_rx))\n",
    "\n",
    "rho_app_te_pred = PRED_te[:,0,:]\n",
    "rho_app_tm_pred = PRED_tm[:,0,:]\n",
    "\n",
    "phase_te_pred = PRED_te[:,1,:]\n",
    "phase_tm_pred = PRED_tm[:,1,:]\n",
    "\n",
    "DOBS_te = dobs_te.reshape((n_freq, 2, n_rx))\n",
    "DOBS_tm = dobs_tm.reshape((n_freq, 2, n_rx))\n",
    "\n",
    "rho_app_te_dobs = DOBS_te[:,0,:]\n",
    "rho_app_tm_dobs = DOBS_tm[:,0,:]\n",
    "\n",
    "phase_te_dobs = DOBS_te[:,1,:]\n",
    "phase_tm_dobs = DOBS_tm[:,1,:]"
   ]
  },
  {
   "cell_type": "code",
   "execution_count": 97,
   "id": "9fb3b538",
   "metadata": {},
   "outputs": [],
   "source": [
    "def foo_pred(irx):\n",
    "    import matplotlib\n",
    "    matplotlib.rcParams['font.size'] = 10\n",
    "\n",
    "    fig, axs = plt.subplots(4,1, figsize=(8, 10))\n",
    "    ax1, ax2, ax3, ax4 = axs\n",
    "    ax1.loglog(1./frequencies, rho_app_te_pred[:, irx], color='C0')\n",
    "    ax1.loglog(1./frequencies, rho_app_te_dobs[:, irx], 'x', color='C0')\n",
    "    ax2.loglog(1./frequencies, rho_app_tm_pred[:, irx], color='C1')\n",
    "    ax2.loglog(1./frequencies, rho_app_tm_dobs[:, irx], 'x', color='C1')\n",
    "    for ax in axs[:2]:\n",
    "        ax.set_ylim(1, 1000)\n",
    "        ax.set_ylabel(\"App. Res. (Ohm-m)\")\n",
    "        ax.grid(which='both', alpha=0.3)\n",
    "    ax3.semilogx(1./frequencies, phase_te_pred[:, irx], color='C0')\n",
    "    ax3.semilogx(1./frequencies, phase_te_dobs[:, irx], 'x', color='C0')\n",
    "    ax4.semilogx(1./frequencies, phase_tm_pred[:, irx]+180, color='C1')\n",
    "    ax4.semilogx(1./frequencies, phase_tm_dobs[:, irx]+180, 'x', color='C1')\n",
    "    for ax in axs[2:]:\n",
    "        ax.set_ylim(0, 90)\n",
    "        ax.set_ylabel(\"Phase (degree)\")\n",
    "        ax.grid(which='both', alpha=0.3)\n",
    "    ax4.set_xlabel(\"Period (s)\")"
   ]
  },
  {
   "cell_type": "code",
   "execution_count": 98,
   "id": "20fb9d8a",
   "metadata": {},
   "outputs": [
    {
     "data": {
      "application/vnd.jupyter.widget-view+json": {
       "model_id": "01c0a31cba2f4159851db4158dea61be",
       "version_major": 2,
       "version_minor": 0
      },
      "text/plain": [
       "interactive(children=(IntSlider(value=0, description='irx', max=8), Output()), _dom_classes=('widget-interact'…"
      ]
     },
     "metadata": {},
     "output_type": "display_data"
    }
   ],
   "source": [
    "Q_misfit = interact(\n",
    "    foo_pred, \n",
    "    irx=widgets.IntSlider(min=0, max=int(n_rx)-1, value=0),\n",
    ")"
   ]
  }
 ],
 "metadata": {
  "iooxa": {
   "id": {
    "block": "AmsQ22MsxNuusoFgNU4Z",
    "project": "BZ9XlZu3TFKIem4fwsfm",
    "version": 1
   }
  },
  "kernelspec": {
   "display_name": "Python 3 (ipykernel)",
   "language": "python",
   "name": "python3"
  },
  "language_info": {
   "codemirror_mode": {
    "name": "ipython",
    "version": 3
   },
   "file_extension": ".py",
   "mimetype": "text/x-python",
   "name": "python",
   "nbconvert_exporter": "python",
   "pygments_lexer": "ipython3",
   "version": "3.9.18"
  }
 },
 "nbformat": 4,
 "nbformat_minor": 5
}
