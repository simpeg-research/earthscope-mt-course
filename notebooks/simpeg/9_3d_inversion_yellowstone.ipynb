{
 "cells": [
  {
   "cell_type": "markdown",
   "metadata": {},
   "source": [
    "# Invert Yellowstone Data"
   ]
  },
  {
   "cell_type": "code",
   "execution_count": 1,
   "metadata": {
    "iooxa": {
     "id": {
      "block": "PoHPvGmrTNhOgB9x74Cp",
      "project": "q0ZJwGsqqSOExzgbnA6U",
      "version": 1
     },
     "outputId": null
    },
    "tags": []
   },
   "outputs": [],
   "source": [
    "from simpeg import (\n",
    "    maps, utils, data, optimization, maps, regularization, \n",
    "    inverse_problem, directives, inversion, data_misfit\n",
    ")\n",
    "import discretize\n",
    "from discretize.utils import mkvc, refine_tree_xyz\n",
    "from simpeg.electromagnetics import natural_source as nsem\n",
    "import numpy as np\n",
    "from scipy.spatial import cKDTree\n",
    "import matplotlib.pyplot as plt\n",
    "from pymatsolver import Pardiso as Solver\n",
    "from matplotlib.colors import LogNorm\n",
    "\n",
    "from ipywidgets import interact, widgets\n",
    "import warnings\n",
    "from mtpy import MTCollection\n",
    "warnings.filterwarnings(\"ignore\", category=FutureWarning)"
   ]
  },
  {
   "cell_type": "markdown",
   "metadata": {},
   "source": [
    "## Get Data from MTpy"
   ]
  },
  {
   "cell_type": "code",
   "execution_count": 2,
   "metadata": {
    "tags": []
   },
   "outputs": [
    {
     "name": "stdout",
     "output_type": "stream",
     "text": [
      "\u001b[1m24:10:15T07:15:51 | INFO | line:759 |mth5.mth5 | close_mth5 | Flushing and closing ../../data/transfer_functions/yellowstone_mt_collection.h5\u001b[0m\n",
      "CPU times: user 10.7 s, sys: 269 ms, total: 11 s\n",
      "Wall time: 11 s\n"
     ]
    }
   ],
   "source": [
    "%%time\n",
    "with MTCollection() as mc:\n",
    "    mc.open_collection(\"../../data/transfer_functions/yellowstone_mt_collection.h5\")\n",
    "    out = mc.apply_bbox(*[-111.4, -109.85, 44, 45.2])\n",
    "    mc.mth5_collection.tf_summary.summarize()\n",
    "    mt_data=mc.to_mt_data()"
   ]
  },
  {
   "cell_type": "code",
   "execution_count": 3,
   "metadata": {
    "tags": []
   },
   "outputs": [],
   "source": [
    "for station_id in [\"YNP44S\", \"YNP33B\", \"WYYS3\"]:\n",
    "    mt_data.remove_station(station_id)"
   ]
  },
  {
   "cell_type": "code",
   "execution_count": 4,
   "metadata": {
    "tags": []
   },
   "outputs": [],
   "source": [
    "periods = mt_data.get_periods()"
   ]
  },
  {
   "cell_type": "code",
   "execution_count": 5,
   "metadata": {
    "tags": []
   },
   "outputs": [
    {
     "data": {
      "text/plain": [
       "array([2.56000000e+02, 1.92000000e+02, 1.28000000e+02, 9.60000000e+01,\n",
       "       6.40000000e+01, 4.80000000e+01, 3.20000000e+01, 2.40000000e+01,\n",
       "       1.60000000e+01, 1.20000000e+01, 8.00000000e+00, 6.00000000e+00,\n",
       "       4.00000000e+00, 3.00000000e+00, 2.00000000e+00, 1.50000000e+00,\n",
       "       1.00000000e+00, 7.50000000e-01, 5.00000000e-01, 3.75000000e-01,\n",
       "       2.50000000e-01, 1.87500000e-01, 1.36718670e-01, 1.25000000e-01,\n",
       "       1.09374966e-01, 9.37500000e-02, 8.59375269e-02, 6.64062656e-02,\n",
       "       6.25000000e-02, 5.07812440e-02, 4.68750000e-02, 3.90625000e-02,\n",
       "       3.12500000e-02, 3.02734357e-02, 2.34380000e-02, 2.34374982e-02,\n",
       "       1.85546864e-02, 1.56250000e-02, 1.46484368e-02, 1.17190000e-02,\n",
       "       1.17187491e-02, 9.76562500e-03, 7.81250000e-03, 7.56836122e-03,\n",
       "       5.85940000e-03, 5.85937386e-03, 4.63867074e-03, 3.90620000e-03,\n",
       "       3.66210893e-03, 2.92970000e-03, 2.92968779e-03, 2.44140625e-03,\n",
       "       1.95310000e-03, 1.89208995e-03, 1.46484368e-03, 1.46480000e-03,\n",
       "       1.15966795e-03, 9.76560000e-04, 9.15527064e-04, 7.32422054e-04,\n",
       "       6.10351562e-04, 4.42504896e-04, 3.20434561e-04, 2.13623040e-04,\n",
       "       1.37329097e-04, 8.39233142e-05, 5.34057658e-05])"
      ]
     },
     "execution_count": 5,
     "metadata": {},
     "output_type": "execute_result"
    }
   ],
   "source": [
    "1./periods"
   ]
  },
  {
   "cell_type": "code",
   "execution_count": 6,
   "metadata": {
    "tags": []
   },
   "outputs": [],
   "source": [
    "interp_periods = np.array([0.1, 1., 10, 100])\n",
    "interp_mt_data = mt_data.interpolate(interp_periods, inplace=False)"
   ]
  },
  {
   "cell_type": "code",
   "execution_count": 7,
   "metadata": {
    "tags": []
   },
   "outputs": [
    {
     "data": {
      "text/plain": [
       "array([10.  ,  1.  ,  0.1 ,  0.01])"
      ]
     },
     "execution_count": 7,
     "metadata": {},
     "output_type": "execute_result"
    }
   ],
   "source": [
    "1./interp_periods"
   ]
  },
  {
   "cell_type": "code",
   "execution_count": 8,
   "metadata": {
    "tags": []
   },
   "outputs": [
    {
     "name": "stdout",
     "output_type": "stream",
     "text": [
      "\u001b[33m\u001b[1m24:10:15T07:15:57 | WARNING | line:801 |mtpy.core.mt | compute_model_t_errors | MT object for ynp05s_pred contains no Tipper, cannot compute model errors\u001b[0m\n"
     ]
    }
   ],
   "source": [
    "interp_mt_data.compute_model_errors()\n",
    "interp_mt_data.model_epsg = 32612\n",
    "interp_mt_data.compute_relative_locations()"
   ]
  },
  {
   "cell_type": "code",
   "execution_count": 9,
   "metadata": {
    "tags": []
   },
   "outputs": [],
   "source": [
    "sdf = interp_mt_data.to_dataframe()"
   ]
  },
  {
   "cell_type": "code",
   "execution_count": 10,
   "metadata": {
    "tags": []
   },
   "outputs": [],
   "source": [
    "gdf = interp_mt_data.to_geo_df()"
   ]
  },
  {
   "cell_type": "code",
   "execution_count": 11,
   "metadata": {
    "tags": []
   },
   "outputs": [],
   "source": [
    "rx_loc = np.hstack(\n",
    "    (mkvc(gdf.model_north.to_numpy(), 2), \n",
    "     mkvc(gdf.model_east.to_numpy(), 2),\n",
    "     np.zeros((np.prod(gdf.shape[0]), 1)))\n",
    ")"
   ]
  },
  {
   "cell_type": "code",
   "execution_count": 12,
   "metadata": {
    "iooxa": {
     "id": {
      "block": "Eg3ykZFpUred3QAY3oID",
      "project": "q0ZJwGsqqSOExzgbnA6U",
      "version": 1
     },
     "outputId": null
    },
    "tags": []
   },
   "outputs": [
    {
     "data": {
      "image/png": "[encoded data removed]",
      "text/plain": [
       "<Figure size 500x500 with 1 Axes>"
      ]
     },
     "metadata": {},
     "output_type": "display_data"
    }
   ],
   "source": [
    "#frequencies = np.array([1e-1, 2])\n",
    "#station_spacing = 8000\n",
    "#factor_spacing = 4\n",
    "#rx_x, rx_y = np.meshgrid(np.arange(0, 50000, station_spacing), np.arange(0, 50000, station_spacing))\n",
    "#rx_loc = np.hstack((mkvc(rx_x, 2), mkvc(rx_y, 2), np.zeros((np.prod(rx_x.shape), 1))))\n",
    "#print(rx_loc.shape)\n",
    "fig, ax = plt.subplots(1,1, figsize=(5,5))\n",
    "ax.plot(rx_loc[:, 0], rx_loc[:, 1], '.')\n",
    "ax.set_aspect(1)"
   ]
  },
  {
   "cell_type": "code",
   "execution_count": 102,
   "metadata": {
    "tags": []
   },
   "outputs": [],
   "source": [
    "import discretize.utils as dis_utils\n",
    "from discretize import TreeMesh\n",
    "from geoana.em.fdem import skin_depth\n",
    "\n",
    "def get_octree_mesh(\n",
    "    rx_loc, frequencies, sigma_background, station_spacing,\n",
    "    factor_x_pad=2,\n",
    "    factor_y_pad=2,\n",
    "    factor_z_pad_down=2,\n",
    "    factor_z_core=1,\n",
    "    factor_z_pad_up=1,\n",
    "    factor_spacing=4,\n",
    "    ):\n",
    "    f_min =  frequencies.min()\n",
    "    f_max =  frequencies.max()\n",
    "    \n",
    "    lx_pad = skin_depth(f_min, sigma_background) * factor_x_pad\n",
    "    ly_pad = skin_depth(f_min, sigma_background) * factor_y_pad\n",
    "    lz_pad_down = skin_depth(f_min, sigma_background) * factor_z_pad_down\n",
    "    lz_core = skin_depth(f_min, sigma_background) * factor_z_core\n",
    "    lz_pad_up = skin_depth(f_min, sigma_background) * factor_z_pad_up\n",
    "\n",
    "    lx_core = rx_loc[:,0].max() - rx_loc[:,0].min()\n",
    "    ly_core = rx_loc[:,1].max() - rx_loc[:,1].min()\n",
    "    lx = lx_pad + lx_core + lx_pad\n",
    "    ly = ly_pad + ly_core + ly_pad\n",
    "    lz = lz_pad_down + lz_core + lz_pad_up\n",
    "    dx = station_spacing / factor_spacing\n",
    "    dy = station_spacing / factor_spacing\n",
    "    dz = np.round(skin_depth(f_max, sigma_background)/4, decimals=-1)\n",
    "\n",
    "    # Compute number of base mesh cells required in x and y\n",
    "    nbcx = 2 ** int(np.ceil(np.log(lx / dx) / np.log(2.0)))\n",
    "    nbcy = 2 ** int(np.ceil(np.log(ly / dy) / np.log(2.0)))\n",
    "    nbcz = 2 ** int(np.ceil(np.log(lz / dz) / np.log(2.0)))\n",
    "    print (dx, dy, dz)\n",
    "    mesh = dis_utils.mesh_builder_xyz(\n",
    "        rx_loc, \n",
    "        [dx, dy, dz],\n",
    "        padding_distance=[[lx_pad, lx_pad], [ly_pad, ly_pad], [lz_pad_down, lz_pad_up]],\n",
    "        depth_core=lz_core,\n",
    "        mesh_type='tree'\n",
    "    )\n",
    "    X, Y = np.meshgrid(mesh.nodes_x, mesh.nodes_y)\n",
    "    topo = np.c_[X.flatten(), Y.flatten(), np.zeros(X.size)]\n",
    "    mesh = refine_tree_xyz(\n",
    "        mesh, topo, octree_levels=[0, 0, 4, 4, 4], method=\"surface\", finalize=False\n",
    "    )\n",
    "\n",
    "    mesh = refine_tree_xyz(\n",
    "        mesh, rx_loc, octree_levels=[1, 1, 1], method=\"radial\", finalize=True\n",
    "    )    \n",
    "    return mesh"
   ]
  },
  {
   "cell_type": "code",
   "execution_count": 103,
   "metadata": {
    "tags": []
   },
   "outputs": [
    {
     "name": "stdout",
     "output_type": "stream",
     "text": [
      "1000.0 1000.0 400.0\n",
      "111525\n"
     ]
    }
   ],
   "source": [
    "mesh = get_octree_mesh(\n",
    "    rx_loc,\n",
    "    1./interp_periods,\n",
    "    1e-2, \n",
    "    2000,\n",
    "    factor_spacing=2,\n",
    "    factor_x_pad=4,\n",
    "    factor_y_pad=4\n",
    ")\n",
    "print(mesh.n_cells)"
   ]
  },
  {
   "cell_type": "code",
   "execution_count": 104,
   "metadata": {
    "tags": []
   },
   "outputs": [
    {
     "data": {
      "text/plain": [
       "array([10.  ,  1.  ,  0.1 ,  0.01])"
      ]
     },
     "execution_count": 104,
     "metadata": {},
     "output_type": "execute_result"
    }
   ],
   "source": [
    "1./interp_periods"
   ]
  },
  {
   "cell_type": "code",
   "execution_count": 105,
   "metadata": {
    "tags": []
   },
   "outputs": [
    {
     "name": "stdout",
     "output_type": "stream",
     "text": [
      "111.525\n"
     ]
    }
   ],
   "source": [
    "print(mesh.n_cells/1e3)"
   ]
  },
  {
   "cell_type": "code",
   "execution_count": 106,
   "metadata": {
    "tags": []
   },
   "outputs": [
    {
     "data": {
      "text/plain": [
       "(array([1000., 1000., 1000., 1000., 1000., 1000., 1000., 1000., 1000.,\n",
       "        1000., 1000., 1000., 1000., 1000., 1000., 1000., 1000., 1000.,\n",
       "        1000., 1000., 1000., 1000., 1000., 1000., 1000., 1000., 1000.,\n",
       "        1000., 1000., 1000., 1000., 1000., 1000., 1000., 1000., 1000.,\n",
       "        1000., 1000., 1000., 1000., 1000., 1000., 1000., 1000., 1000.,\n",
       "        1000., 1000., 1000., 1000., 1000., 1000., 1000., 1000., 1000.,\n",
       "        1000., 1000., 1000., 1000., 1000., 1000., 1000., 1000., 1000.,\n",
       "        1000., 1000., 1000., 1000., 1000., 1000., 1000., 1000., 1000.,\n",
       "        1000., 1000., 1000., 1000., 1000., 1000., 1000., 1000., 1000.,\n",
       "        1000., 1000., 1000., 1000., 1000., 1000., 1000., 1000., 1000.,\n",
       "        1000., 1000., 1000., 1000., 1000., 1000., 1000., 1000., 1000.,\n",
       "        1000., 1000., 1000., 1000., 1000., 1000., 1000., 1000., 1000.,\n",
       "        1000., 1000., 1000., 1000., 1000., 1000., 1000., 1000., 1000.,\n",
       "        1000., 1000., 1000., 1000., 1000., 1000., 1000., 1000., 1000.,\n",
       "        1000., 1000., 1000., 1000., 1000., 1000., 1000., 1000., 1000.,\n",
       "        1000., 1000., 1000., 1000., 1000., 1000., 1000., 1000., 1000.,\n",
       "        1000., 1000., 1000., 1000., 1000., 1000., 1000., 1000., 1000.,\n",
       "        1000., 1000., 1000., 1000., 1000., 1000., 1000., 1000., 1000.,\n",
       "        1000., 1000., 1000., 1000., 1000., 1000., 1000., 1000., 1000.,\n",
       "        1000., 1000., 1000., 1000., 1000., 1000., 1000., 1000., 1000.,\n",
       "        1000., 1000., 1000., 1000., 1000., 1000., 1000., 1000., 1000.,\n",
       "        1000., 1000., 1000., 1000., 1000., 1000., 1000., 1000., 1000.,\n",
       "        1000., 1000., 1000., 1000., 1000., 1000., 1000., 1000., 1000.,\n",
       "        1000., 1000., 1000., 1000., 1000., 1000., 1000., 1000., 1000.,\n",
       "        1000., 1000., 1000., 1000., 1000., 1000., 1000., 1000., 1000.,\n",
       "        1000., 1000., 1000., 1000., 1000., 1000., 1000., 1000., 1000.,\n",
       "        1000., 1000., 1000., 1000., 1000., 1000., 1000., 1000., 1000.,\n",
       "        1000., 1000., 1000., 1000., 1000., 1000., 1000., 1000., 1000.,\n",
       "        1000., 1000., 1000., 1000., 1000., 1000., 1000., 1000., 1000.,\n",
       "        1000., 1000., 1000., 1000., 1000., 1000., 1000., 1000., 1000.,\n",
       "        1000., 1000., 1000., 1000., 1000., 1000., 1000., 1000., 1000.,\n",
       "        1000., 1000., 1000., 1000., 1000., 1000., 1000., 1000., 1000.,\n",
       "        1000., 1000., 1000., 1000., 1000., 1000., 1000., 1000., 1000.,\n",
       "        1000., 1000., 1000., 1000., 1000., 1000., 1000., 1000., 1000.,\n",
       "        1000., 1000., 1000., 1000., 1000., 1000., 1000., 1000., 1000.,\n",
       "        1000., 1000., 1000., 1000., 1000., 1000., 1000., 1000., 1000.,\n",
       "        1000., 1000., 1000., 1000., 1000., 1000., 1000., 1000., 1000.,\n",
       "        1000., 1000., 1000., 1000., 1000., 1000., 1000., 1000., 1000.,\n",
       "        1000., 1000., 1000., 1000., 1000., 1000., 1000., 1000., 1000.,\n",
       "        1000., 1000., 1000., 1000., 1000., 1000., 1000., 1000., 1000.,\n",
       "        1000., 1000., 1000., 1000., 1000., 1000., 1000., 1000., 1000.,\n",
       "        1000., 1000., 1000., 1000., 1000., 1000., 1000., 1000., 1000.,\n",
       "        1000., 1000., 1000., 1000., 1000., 1000., 1000., 1000., 1000.,\n",
       "        1000., 1000., 1000., 1000., 1000., 1000., 1000., 1000., 1000.,\n",
       "        1000., 1000., 1000., 1000., 1000., 1000., 1000., 1000., 1000.,\n",
       "        1000., 1000., 1000., 1000., 1000., 1000., 1000., 1000., 1000.,\n",
       "        1000., 1000., 1000., 1000., 1000., 1000., 1000., 1000., 1000.,\n",
       "        1000., 1000., 1000., 1000., 1000., 1000., 1000., 1000., 1000.,\n",
       "        1000., 1000., 1000., 1000., 1000., 1000., 1000., 1000., 1000.,\n",
       "        1000., 1000., 1000., 1000., 1000., 1000., 1000., 1000., 1000.,\n",
       "        1000., 1000., 1000., 1000., 1000., 1000., 1000., 1000., 1000.,\n",
       "        1000., 1000., 1000., 1000., 1000., 1000., 1000., 1000., 1000.,\n",
       "        1000., 1000., 1000., 1000., 1000., 1000., 1000., 1000., 1000.,\n",
       "        1000., 1000., 1000., 1000., 1000., 1000., 1000., 1000., 1000.,\n",
       "        1000., 1000., 1000., 1000., 1000., 1000., 1000., 1000., 1000.,\n",
       "        1000., 1000., 1000., 1000., 1000., 1000., 1000., 1000., 1000.,\n",
       "        1000., 1000., 1000., 1000., 1000., 1000., 1000., 1000.]),\n",
       " array([1000., 1000., 1000., 1000., 1000., 1000., 1000., 1000., 1000.,\n",
       "        1000., 1000., 1000., 1000., 1000., 1000., 1000., 1000., 1000.,\n",
       "        1000., 1000., 1000., 1000., 1000., 1000., 1000., 1000., 1000.,\n",
       "        1000., 1000., 1000., 1000., 1000., 1000., 1000., 1000., 1000.,\n",
       "        1000., 1000., 1000., 1000., 1000., 1000., 1000., 1000., 1000.,\n",
       "        1000., 1000., 1000., 1000., 1000., 1000., 1000., 1000., 1000.,\n",
       "        1000., 1000., 1000., 1000., 1000., 1000., 1000., 1000., 1000.,\n",
       "        1000., 1000., 1000., 1000., 1000., 1000., 1000., 1000., 1000.,\n",
       "        1000., 1000., 1000., 1000., 1000., 1000., 1000., 1000., 1000.,\n",
       "        1000., 1000., 1000., 1000., 1000., 1000., 1000., 1000., 1000.,\n",
       "        1000., 1000., 1000., 1000., 1000., 1000., 1000., 1000., 1000.,\n",
       "        1000., 1000., 1000., 1000., 1000., 1000., 1000., 1000., 1000.,\n",
       "        1000., 1000., 1000., 1000., 1000., 1000., 1000., 1000., 1000.,\n",
       "        1000., 1000., 1000., 1000., 1000., 1000., 1000., 1000., 1000.,\n",
       "        1000., 1000., 1000., 1000., 1000., 1000., 1000., 1000., 1000.,\n",
       "        1000., 1000., 1000., 1000., 1000., 1000., 1000., 1000., 1000.,\n",
       "        1000., 1000., 1000., 1000., 1000., 1000., 1000., 1000., 1000.,\n",
       "        1000., 1000., 1000., 1000., 1000., 1000., 1000., 1000., 1000.,\n",
       "        1000., 1000., 1000., 1000., 1000., 1000., 1000., 1000., 1000.,\n",
       "        1000., 1000., 1000., 1000., 1000., 1000., 1000., 1000., 1000.,\n",
       "        1000., 1000., 1000., 1000., 1000., 1000., 1000., 1000., 1000.,\n",
       "        1000., 1000., 1000., 1000., 1000., 1000., 1000., 1000., 1000.,\n",
       "        1000., 1000., 1000., 1000., 1000., 1000., 1000., 1000., 1000.,\n",
       "        1000., 1000., 1000., 1000., 1000., 1000., 1000., 1000., 1000.,\n",
       "        1000., 1000., 1000., 1000., 1000., 1000., 1000., 1000., 1000.,\n",
       "        1000., 1000., 1000., 1000., 1000., 1000., 1000., 1000., 1000.,\n",
       "        1000., 1000., 1000., 1000., 1000., 1000., 1000., 1000., 1000.,\n",
       "        1000., 1000., 1000., 1000., 1000., 1000., 1000., 1000., 1000.,\n",
       "        1000., 1000., 1000., 1000., 1000., 1000., 1000., 1000., 1000.,\n",
       "        1000., 1000., 1000., 1000., 1000., 1000., 1000., 1000., 1000.,\n",
       "        1000., 1000., 1000., 1000., 1000., 1000., 1000., 1000., 1000.,\n",
       "        1000., 1000., 1000., 1000., 1000., 1000., 1000., 1000., 1000.,\n",
       "        1000., 1000., 1000., 1000., 1000., 1000., 1000., 1000., 1000.,\n",
       "        1000., 1000., 1000., 1000., 1000., 1000., 1000., 1000., 1000.,\n",
       "        1000., 1000., 1000., 1000., 1000., 1000., 1000., 1000., 1000.,\n",
       "        1000., 1000., 1000., 1000., 1000., 1000., 1000., 1000., 1000.,\n",
       "        1000., 1000., 1000., 1000., 1000., 1000., 1000., 1000., 1000.,\n",
       "        1000., 1000., 1000., 1000., 1000., 1000., 1000., 1000., 1000.,\n",
       "        1000., 1000., 1000., 1000., 1000., 1000., 1000., 1000., 1000.,\n",
       "        1000., 1000., 1000., 1000., 1000., 1000., 1000., 1000., 1000.,\n",
       "        1000., 1000., 1000., 1000., 1000., 1000., 1000., 1000., 1000.,\n",
       "        1000., 1000., 1000., 1000., 1000., 1000., 1000., 1000., 1000.,\n",
       "        1000., 1000., 1000., 1000., 1000., 1000., 1000., 1000., 1000.,\n",
       "        1000., 1000., 1000., 1000., 1000., 1000., 1000., 1000., 1000.,\n",
       "        1000., 1000., 1000., 1000., 1000., 1000., 1000., 1000., 1000.,\n",
       "        1000., 1000., 1000., 1000., 1000., 1000., 1000., 1000., 1000.,\n",
       "        1000., 1000., 1000., 1000., 1000., 1000., 1000., 1000., 1000.,\n",
       "        1000., 1000., 1000., 1000., 1000., 1000., 1000., 1000., 1000.,\n",
       "        1000., 1000., 1000., 1000., 1000., 1000., 1000., 1000., 1000.,\n",
       "        1000., 1000., 1000., 1000., 1000., 1000., 1000., 1000., 1000.,\n",
       "        1000., 1000., 1000., 1000., 1000., 1000., 1000., 1000., 1000.,\n",
       "        1000., 1000., 1000., 1000., 1000., 1000., 1000., 1000., 1000.,\n",
       "        1000., 1000., 1000., 1000., 1000., 1000., 1000., 1000., 1000.,\n",
       "        1000., 1000., 1000., 1000., 1000., 1000., 1000., 1000., 1000.,\n",
       "        1000., 1000., 1000., 1000., 1000., 1000., 1000., 1000., 1000.,\n",
       "        1000., 1000., 1000., 1000., 1000., 1000., 1000., 1000., 1000.,\n",
       "        1000., 1000., 1000., 1000., 1000., 1000., 1000., 1000.]),\n",
       " array([400., 400., 400., 400., 400., 400., 400., 400., 400., 400., 400.,\n",
       "        400., 400., 400., 400., 400., 400., 400., 400., 400., 400., 400.,\n",
       "        400., 400., 400., 400., 400., 400., 400., 400., 400., 400., 400.,\n",
       "        400., 400., 400., 400., 400., 400., 400., 400., 400., 400., 400.,\n",
       "        400., 400., 400., 400., 400., 400., 400., 400., 400., 400., 400.,\n",
       "        400., 400., 400., 400., 400., 400., 400., 400., 400., 400., 400.,\n",
       "        400., 400., 400., 400., 400., 400., 400., 400., 400., 400., 400.,\n",
       "        400., 400., 400., 400., 400., 400., 400., 400., 400., 400., 400.,\n",
       "        400., 400., 400., 400., 400., 400., 400., 400., 400., 400., 400.,\n",
       "        400., 400., 400., 400., 400., 400., 400., 400., 400., 400., 400.,\n",
       "        400., 400., 400., 400., 400., 400., 400., 400., 400., 400., 400.,\n",
       "        400., 400., 400., 400., 400., 400., 400., 400., 400., 400., 400.,\n",
       "        400., 400., 400., 400., 400., 400., 400., 400., 400., 400., 400.,\n",
       "        400., 400., 400., 400., 400., 400., 400., 400., 400., 400., 400.,\n",
       "        400., 400., 400., 400., 400., 400., 400., 400., 400., 400., 400.,\n",
       "        400., 400., 400., 400., 400., 400., 400., 400., 400., 400., 400.,\n",
       "        400., 400., 400., 400., 400., 400., 400., 400., 400., 400., 400.,\n",
       "        400., 400., 400., 400., 400., 400., 400., 400., 400., 400., 400.,\n",
       "        400., 400., 400., 400., 400., 400., 400., 400., 400., 400., 400.,\n",
       "        400., 400., 400., 400., 400., 400., 400., 400., 400., 400., 400.,\n",
       "        400., 400., 400., 400., 400., 400., 400., 400., 400., 400., 400.,\n",
       "        400., 400., 400., 400., 400., 400., 400., 400., 400., 400., 400.,\n",
       "        400., 400., 400., 400., 400., 400., 400., 400., 400., 400., 400.,\n",
       "        400., 400., 400., 400., 400., 400., 400., 400., 400., 400., 400.,\n",
       "        400., 400., 400., 400., 400., 400., 400., 400., 400., 400., 400.,\n",
       "        400., 400., 400., 400., 400., 400., 400., 400., 400., 400., 400.,\n",
       "        400., 400., 400., 400., 400., 400., 400., 400., 400., 400., 400.,\n",
       "        400., 400., 400., 400., 400., 400., 400., 400., 400., 400., 400.,\n",
       "        400., 400., 400., 400., 400., 400., 400., 400., 400., 400., 400.,\n",
       "        400., 400., 400., 400., 400., 400., 400., 400., 400., 400., 400.,\n",
       "        400., 400., 400., 400., 400., 400., 400., 400., 400., 400., 400.,\n",
       "        400., 400., 400., 400., 400., 400., 400., 400., 400., 400., 400.,\n",
       "        400., 400., 400., 400., 400., 400., 400., 400., 400., 400., 400.,\n",
       "        400., 400., 400., 400., 400., 400., 400., 400., 400., 400., 400.,\n",
       "        400., 400., 400., 400., 400., 400., 400., 400., 400., 400., 400.,\n",
       "        400., 400., 400., 400., 400., 400., 400., 400., 400., 400., 400.,\n",
       "        400., 400., 400., 400., 400., 400., 400., 400., 400., 400., 400.,\n",
       "        400., 400., 400., 400., 400., 400., 400., 400., 400., 400., 400.,\n",
       "        400., 400., 400., 400., 400., 400., 400., 400., 400., 400., 400.,\n",
       "        400., 400., 400., 400., 400., 400., 400., 400., 400., 400., 400.,\n",
       "        400., 400., 400., 400., 400., 400., 400., 400., 400., 400., 400.,\n",
       "        400., 400., 400., 400., 400., 400., 400., 400., 400., 400., 400.,\n",
       "        400., 400., 400., 400., 400., 400., 400., 400., 400., 400., 400.,\n",
       "        400., 400., 400., 400., 400., 400., 400., 400., 400., 400., 400.,\n",
       "        400., 400., 400., 400., 400., 400., 400., 400., 400., 400., 400.,\n",
       "        400., 400., 400., 400., 400., 400., 400., 400., 400., 400., 400.,\n",
       "        400., 400., 400., 400., 400., 400.]))"
      ]
     },
     "execution_count": 106,
     "metadata": {},
     "output_type": "execute_result"
    }
   ],
   "source": [
    "mesh.h"
   ]
  },
  {
   "cell_type": "code",
   "execution_count": 107,
   "metadata": {
    "tags": []
   },
   "outputs": [
    {
     "name": "stdout",
     "output_type": "stream",
     "text": [
      "1.11525\n"
     ]
    }
   ],
   "source": [
    "print(mesh.n_cells/1e5)"
   ]
  },
  {
   "cell_type": "code",
   "execution_count": 108,
   "metadata": {
    "tags": []
   },
   "outputs": [],
   "source": [
    "sigma_background = np.ones(mesh.nC) * 1e-8\n",
    "ind_active = mesh.cell_centers[:,2] < 0.\n",
    "sigma_background[ind_active] = 1e-2"
   ]
  },
  {
   "cell_type": "code",
   "execution_count": 109,
   "metadata": {
    "tags": []
   },
   "outputs": [
    {
     "data": {
      "image/png": "[encoded data removed]",
      "text/plain": [
       "<Figure size 1000x1000 with 2 Axes>"
      ]
     },
     "metadata": {},
     "output_type": "display_data"
    }
   ],
   "source": [
    "fig = plt.figure(figsize=(10, 10))\n",
    "ax = fig.add_subplot(1,2,1)\n",
    "mesh.plot_slice(\n",
    "    sigma_background, grid=True, normal='Z', ax=ax,\n",
    "    pcolor_opts={\"cmap\":\"turbo\", \"norm\":LogNorm(vmin=1e-3, vmax=1)},\n",
    "    grid_opts={\"lw\":0.1, \"color\":'k'}, \n",
    "    range_x=(rx_loc[:,0].min()-5000, rx_loc[:,0].max()+5000), \n",
    "    range_y=(rx_loc[:,0].min()-5000, rx_loc[:,0].max()+5000), \n",
    "    slice_loc=0.\n",
    ")\n",
    "ax.plot(rx_loc[:,0], rx_loc[:,1], 'ro')\n",
    "ax.set_aspect(1)\n",
    "\n",
    "ax2 = fig.add_subplot(1,2,2, sharex=ax)\n",
    "mesh.plot_slice(\n",
    "    sigma_background, grid=True, normal='X', ax=ax2,\n",
    "    pcolor_opts={\"cmap\":\"turbo\", \"norm\":LogNorm(vmin=1e-4, vmax=10)},\n",
    "    grid_opts={\"lw\":0.1, \"color\":'k'}, \n",
    "    range_x=(rx_loc[:,0].min()-10000, rx_loc[:,0].max()+10000), \n",
    "    range_y=(-50000, 50000*0.1)\n",
    ")\n",
    "ax2.plot(rx_loc[:,0], rx_loc[:,2], 'ro')\n",
    "ax2.set_aspect(3)\n",
    "fig.tight_layout()"
   ]
  },
  {
   "cell_type": "code",
   "execution_count": 110,
   "metadata": {
    "iooxa": {
     "id": {
      "block": "Kg0KgTok8HdQGf9zPMwa",
      "project": "q0ZJwGsqqSOExzgbnA6U",
      "version": 1
     },
     "outputId": null
    },
    "tags": []
   },
   "outputs": [],
   "source": [
    "# Generate a Survey\n",
    "rx_list = []\n",
    "# rx_orientations_impedance = ['xy', 'yx', 'xx', 'yy']\n",
    "rx_orientations_impedance = ['xy', 'yx']\n",
    "for rx_orientation in rx_orientations_impedance:    \n",
    "    rx_list.append(     \n",
    "        nsem.receivers.PointNaturalSource(\n",
    "            rx_loc, orientation=rx_orientation, component=\"apparent_resistivity\"\n",
    "        )\n",
    "    )\n",
    "# rx_orientations_tipper = ['zx', 'zy']\n",
    "# for rx_orientation in rx_orientations_tipper:    \n",
    "#     rx_list.append(     \n",
    "#         nsem.receivers.Point3DTipper(\n",
    "#             rx_loc, orientation=rx_orientation, component=\"real\"\n",
    "#         )\n",
    "#     )\n",
    "#     rx_list.append(\n",
    "#         nsem.receivers.Point3DTipper(\n",
    "#             rx_loc, orientation=rx_orientation, component=\"imag\"\n",
    "#         )\n",
    "#     )\n",
    "# Source list\n",
    "src_list = [nsem.sources.PlanewaveXYPrimary(rx_list, frequency=f) for f in 1./interp_periods]\n",
    "\n",
    "# Survey MT\n",
    "survey = nsem.Survey(src_list)\n",
    "# rx_orientations = rx_orientations_impedance + rx_orientations_tipper\n",
    "rx_orientations = rx_orientations_impedance "
   ]
  },
  {
   "cell_type": "markdown",
   "metadata": {
    "iooxa": {
     "id": {
      "block": "eNah7BrGaxuJqzw0OOyf",
      "project": "q0ZJwGsqqSOExzgbnA6U",
      "version": 1
     },
     "outputId": null
    }
   },
   "source": [
    "```\n",
    "# forward model to get the model response for the synthetic data\n",
    "\n",
    "# Set the mapping\n",
    "active_map = maps.InjectActiveCells(\n",
    "    mesh=mesh, indActive=ind_active, valInactive=np.log(1e-8)\n",
    ")\n",
    "mapping = maps.ExpMap(mesh) * active_map\n",
    "\n",
    "# True model \n",
    "m_true = np.log(sigma_background[ind_active])\n",
    "\n",
    "# Setup the problem object\n",
    "simulation = nsem.simulation.Simulation3DPrimarySecondary( \n",
    "    mesh,\n",
    "    survey=survey,\n",
    "    sigmaMap=mapping,\n",
    "    sigmaPrimary=sigma_background,\n",
    "    solver=Solver\n",
    ")\n",
    "dpred = simulation.dpred(m_true)\n",
    "```"
   ]
  },
  {
   "cell_type": "code",
   "execution_count": 111,
   "metadata": {
    "tags": []
   },
   "outputs": [],
   "source": [
    "omega = 1./np.pi * 2"
   ]
  },
  {
   "cell_type": "code",
   "execution_count": 112,
   "metadata": {
    "tags": []
   },
   "outputs": [
    {
     "data": {
      "text/plain": [
       "1249999.9993195303"
      ]
     },
     "execution_count": 112,
     "metadata": {},
     "output_type": "execute_result"
    }
   ],
   "source": [
    "1./(mu_0 * omega)"
   ]
  },
  {
   "cell_type": "code",
   "execution_count": 67,
   "metadata": {
    "tags": []
   },
   "outputs": [],
   "source": [
    "from scipy.constants import mu_0"
   ]
  },
  {
   "cell_type": "markdown",
   "metadata": {},
   "source": [
    "simpeg [zxy, zyx, zxx, zyy, tzx, tzy]\n",
    "\n",
    "mtpy [zyx, zxy, zyy, zxx, -tzy, -tzx]"
   ]
  },
  {
   "cell_type": "code",
   "execution_count": 22,
   "metadata": {
    "tags": []
   },
   "outputs": [],
   "source": [
    "frequencies = 1/interp_periods\n",
    "# components = [\"z_xx\", \"z_xy\", \"z_yx\", \"z_yy\", \"t_zx\", \"t_zy\"]\n",
    "# components = [\"z_yx\", \"z_xy\", \"z_yy\", \"z_xx\", \"t_zy\", \"t_zx\"]\n",
    "components = [\"res_yx\", \"res_xy\"]\n",
    "n_rx = rx_loc.shape[0]\n",
    "n_freq = len(interp_periods)\n",
    "n_component = 1\n",
    "n_orientation = len(rx_orientations)\n",
    "\n",
    "f_dict = dict([(round(ff, 5), ii) for ii, ff in enumerate(1/interp_periods)])\n",
    "observations = np.zeros((n_freq, n_orientation, n_rx, n_component))\n",
    "errors = np.zeros_like(observations)\n",
    "for s_index, station in enumerate(gdf.station):\n",
    "    station_df = sdf.loc[sdf.station == station]\n",
    "    station_df.set_index(\"period\", inplace=True)\n",
    "    for row in station_df.itertuples():\n",
    "        f_index = f_dict[round(1./row.Index, 5)]\n",
    "        for c_index, comp in enumerate(components):\n",
    "            value = getattr(row, comp)\n",
    "            # print (round(1./row.Index, 5), comp, value)\n",
    "            if 't' in comp:\n",
    "                value *= -1\n",
    "            err = getattr(row, f\"{comp}_model_error\") # user_set error\n",
    "            # observations[f_index, c_index, s_index, 0] = value.real\n",
    "            # observations[f_index, c_index, s_index, 1] = value.imag               \n",
    "            # errors[f_index, c_index, s_index, 0] = err\n",
    "            # errors[f_index, c_index, s_index, 1] = err       \n",
    "            observations[f_index, c_index, s_index, 0] = value\n",
    "            errors[f_index, c_index, s_index, 0] = err"
   ]
  },
  {
   "cell_type": "code",
   "execution_count": 23,
   "metadata": {
    "tags": []
   },
   "outputs": [],
   "source": [
    "observations[np.where(observations == 0)] = 1e-3\n",
    "observations[np.isnan(observations)] = 1e-3\n",
    "# errors = abs(observations) * 0.05\n",
    "errors[np.where(observations == 1e-3)] = np.inf"
   ]
  },
  {
   "cell_type": "markdown",
   "metadata": {},
   "source": [
    "```\n",
    "DOBS = dpred.reshape((n_freq, n_orientation, n_component, n_rx))\n",
    "DCLEAN = DOBS.copy()\n",
    "FLOOR = np.zeros_like(DOBS)\n",
    "FLOOR[:,2,0,:] = np.percentile(abs(DOBS[:,2,0,:].flatten()), 90) * 0.1\n",
    "FLOOR[:,2,1,:] = np.percentile(abs(DOBS[:,2,1,:].flatten()), 90) * 0.1\n",
    "FLOOR[:,3,0,:] = np.percentile(abs(DOBS[:,3,0,:].flatten()), 90) * 0.1\n",
    "FLOOR[:,3,1,:] = np.percentile(abs(DOBS[:,3,1,:].flatten()), 90) * 0.1\n",
    "FLOOR[:,4,0,:] = np.percentile(abs(DOBS[:,4,0,:].flatten()), 90) * 0.1\n",
    "FLOOR[:,4,1,:] = np.percentile(abs(DOBS[:,4,1,:].flatten()), 90) * 0.1\n",
    "FLOOR[:,5,0,:] = np.percentile(abs(DOBS[:,5,0,:].flatten()), 90) * 0.1\n",
    "FLOOR[:,5,1,:] = np.percentile(abs(DOBS[:,5,1,:].flatten()), 90) * 0.1\n",
    "STD = abs(DOBS) * relative_error + FLOOR\n",
    "# STD = (FLOOR)\n",
    "standard_deviation = STD.flatten()\n",
    "dobs = DOBS.flatten() \n",
    "dobs += abs(dobs) * relative_error * np.random.randn(dobs.size)\n",
    "DOBS = dobs.reshape((n_freq, n_orientation, n_component, n_rx))\n",
    "# + standard_deviation * np.random.randn(standard_deviation.size)\n",
    "```"
   ]
  },
  {
   "cell_type": "code",
   "execution_count": 24,
   "metadata": {
    "tags": []
   },
   "outputs": [],
   "source": [
    "def foo_data(i_freq, i_orientation, i_component):\n",
    "    fig, ax = plt.subplots(1,1, figsize=(5, 5))\n",
    "    vmin = np.min([observations[i_freq, i_orientation, :, i_component].min()])\n",
    "    vmax = np.max([observations[i_freq, i_orientation, :, i_component].max()])\n",
    "    out1 = utils.plot2Ddata(rx_loc, observations[i_freq, i_orientation, :, i_component], clim=(vmin, vmax), ax=ax, contourOpts={'cmap':'turbo'}, ncontour=20)\n",
    "    ax.plot(rx_loc[:,0], rx_loc[:,1], 'kx')\n",
    "    if i_orientation<4:\n",
    "        transfer_type = \"Z\"\n",
    "    else:\n",
    "        transfer_type = \"T\"\n",
    "    ax.set_title(\"Frequency={:.1e}, {:s}{:s}-{:s}\".format(1./interp_periods[i_freq], transfer_type, rx_orientations[i_orientation], components[i_component]))"
   ]
  },
  {
   "cell_type": "code",
   "execution_count": 25,
   "metadata": {
    "tags": []
   },
   "outputs": [
    {
     "data": {
      "application/vnd.jupyter.widget-view+json": {
       "model_id": "b5effe987c3f4ba899a9e75f5325d107",
       "version_major": 2,
       "version_minor": 0
      },
      "text/plain": [
       "interactive(children=(IntSlider(value=0, description='i_freq', max=3), IntSlider(value=0, description='i_orien…"
      ]
     },
     "metadata": {},
     "output_type": "display_data"
    },
    {
     "data": {
      "text/plain": [
       "<function __main__.foo_data(i_freq, i_orientation, i_component)>"
      ]
     },
     "execution_count": 25,
     "metadata": {},
     "output_type": "execute_result"
    }
   ],
   "source": [
    "interact(\n",
    "    foo_data,\n",
    "    i_freq=widgets.IntSlider(min=0, max=n_freq-1),\n",
    "    i_orientation=widgets.IntSlider(min=0, max=n_component-1), \n",
    "    i_component=widgets.IntSlider(min=0, max=n_orientation-1), \n",
    ")"
   ]
  },
  {
   "cell_type": "code",
   "execution_count": 26,
   "metadata": {},
   "outputs": [],
   "source": [
    "dobs = observations.flatten()\n",
    "standard_deviation = errors.flatten()\n",
    "dobs[np.isnan(dobs)] = 100.\n",
    "standard_deviation[dobs==100.] = np.inf"
   ]
  },
  {
   "cell_type": "code",
   "execution_count": 27,
   "metadata": {
    "tags": []
   },
   "outputs": [
    {
     "data": {
      "text/plain": [
       "(368,)"
      ]
     },
     "execution_count": 27,
     "metadata": {},
     "output_type": "execute_result"
    }
   ],
   "source": [
    "dobs.shape"
   ]
  },
  {
   "cell_type": "code",
   "execution_count": 28,
   "metadata": {
    "tags": []
   },
   "outputs": [
    {
     "data": {
      "text/plain": [
       "(368,)"
      ]
     },
     "execution_count": 28,
     "metadata": {},
     "output_type": "execute_result"
    }
   ],
   "source": [
    "standard_deviation.shape"
   ]
  },
  {
   "cell_type": "code",
   "execution_count": 29,
   "metadata": {
    "tags": []
   },
   "outputs": [
    {
     "data": {
      "text/plain": [
       "368"
      ]
     },
     "execution_count": 29,
     "metadata": {},
     "output_type": "execute_result"
    }
   ],
   "source": [
    "survey.nD"
   ]
  },
  {
   "cell_type": "code",
   "execution_count": 30,
   "metadata": {
    "iooxa": {
     "id": {
      "block": "VRX59Q71h0w490BKkFLT",
      "project": "q0ZJwGsqqSOExzgbnA6U",
      "version": 1
     },
     "outputId": null
    },
    "tags": []
   },
   "outputs": [],
   "source": [
    "# Assign uncertainties\n",
    "# make data object\n",
    "data_object = data.Data(survey, dobs=dobs, standard_deviation=errors.flatten())"
   ]
  },
  {
   "cell_type": "code",
   "execution_count": 31,
   "metadata": {
    "iooxa": {
     "id": {
      "block": "lK4jdZjag6Pks9Wz51Q5",
      "project": "q0ZJwGsqqSOExzgbnA6U",
      "version": 1
     },
     "outputId": null
    },
    "tags": []
   },
   "outputs": [
    {
     "data": {
      "image/png": "[encoded data removed]",
      "text/plain": [
       "<Figure size 640x480 with 1 Axes>"
      ]
     },
     "metadata": {},
     "output_type": "display_data"
    }
   ],
   "source": [
    "# data_object.standard_deviation = stdnew.flatten()  # sim.survey.std\n",
    "plt.semilogy(abs(data_object.dobs), '.r')\n",
    "plt.semilogy((data_object.standard_deviation), 'k.', ms=1)\n",
    "plt.show()"
   ]
  },
  {
   "cell_type": "code",
   "execution_count": 32,
   "metadata": {
    "iooxa": {
     "id": {
      "block": "eNah7BrGaxuJqzw0OOyf",
      "project": "q0ZJwGsqqSOExzgbnA6U",
      "version": 1
     },
     "outputId": null
    },
    "tags": []
   },
   "outputs": [
    {
     "name": "stdout",
     "output_type": "stream",
     "text": [
      "0, 10.0 Hz\n",
      "1, 1.0 Hz\n",
      "2, 0.1 Hz\n",
      "3, 0.0 Hz\n"
     ]
    }
   ],
   "source": [
    "# Set the mapping\n",
    "# active_map = maps.InjectActiveCells(\n",
    "#     mesh=mesh, indActive=ind_active, valInactive=np.log(1e-8)\n",
    "# )\n",
    "# mapping = maps.ExpMap(mesh) * active_map\n",
    "\n",
    "# True model \n",
    "m_true = np.log(sigma_background[ind_active])\n",
    "\n",
    "# # Setup the problem object\n",
    "# simulation = nsem.simulation.Simulation3DPrimarySecondary(   \n",
    "#     mesh,\n",
    "#     survey=survey,\n",
    "#     sigmaMap=mapping,\n",
    "#     sigmaPrimary=sigma_background,\n",
    "#     solver=Solver\n",
    "\n",
    "# )\n",
    "\n",
    "mt_sims = []\n",
    "mt_mappings = []\n",
    "surveys = []\n",
    "for i in range(len(src_list)):\n",
    "    # Set the mapping\n",
    "    active_map = maps.InjectActiveCells(\n",
    "        mesh=mesh, indActive=ind_active, valInactive=np.log(1e-8)\n",
    "    )\n",
    "    mapping = maps.ExpMap(mesh) * active_map    \n",
    "    survey_chunk = nsem.Survey(src_list[i])\n",
    "    mt_sims.append(\n",
    "        nsem.simulation.Simulation3DPrimarySecondary(    \n",
    "            mesh,\n",
    "            survey=survey_chunk,\n",
    "            sigmaMap=maps.IdentityMap(),\n",
    "            sigmaPrimary=sigma_background,\n",
    "            solver=Solver\n",
    "        )\n",
    "    )\n",
    "    surveys.append(survey_chunk)\n",
    "    mt_mappings.append(mapping)\n",
    "    print (f\"{i}, {frequencies[i]:.1f} Hz\")"
   ]
  },
  {
   "cell_type": "code",
   "execution_count": 33,
   "metadata": {
    "tags": []
   },
   "outputs": [],
   "source": [
    "from simpeg.meta import MultiprocessingMetaSimulation\n",
    "parallel_sim = MultiprocessingMetaSimulation(mt_sims, mt_mappings, n_processes=4)"
   ]
  },
  {
   "cell_type": "code",
   "execution_count": 34,
   "metadata": {
    "tags": []
   },
   "outputs": [
    {
     "name": "stdout",
     "output_type": "stream",
     "text": [
      "Intel MKL WARNING: Support of Intel(R) Streaming SIMD Extensions 4.2 (Intel(R) SSE4.2) enabled only processors has been deprecated. Intel oneAPI Math Kernel Library 2025.0 will require Intel(R) Advanced Vector Extensions (Intel(R) AVX) instructions.Intel MKL WARNING: Support of Intel(R) Streaming SIMD Extensions 4.2 (Intel(R) SSE4.2) enabled only processors has been deprecated. Intel oneAPI Math Kernel Library 2025.0 will require Intel(R) Advanced Vector Extensions (Intel(R) AVX) instructions.\n",
      "\n",
      "Intel MKL WARNING: Support of Intel(R) Streaming SIMD Extensions 4.2 (Intel(R) SSE4.2) enabled only processors has been deprecated. Intel oneAPI Math Kernel Library 2025.0 will require Intel(R) Advanced Vector Extensions (Intel(R) AVX) instructions.\n",
      "Intel MKL WARNING: Support of Intel(R) Streaming SIMD Extensions 4.2 (Intel(R) SSE4.2) enabled only processors has been deprecated. Intel oneAPI Math Kernel Library 2025.0 will require Intel(R) Advanced Vector Extensions (Intel(R) AVX) instructions.\n",
      "CPU times: user 10.4 ms, sys: 32.7 ms, total: 43.1 ms\n",
      "Wall time: 1min 37s\n"
     ]
    }
   ],
   "source": [
    "%%time\n",
    "dpred = parallel_sim.dpred(m_true)"
   ]
  },
  {
   "cell_type": "code",
   "execution_count": 35,
   "metadata": {
    "tags": []
   },
   "outputs": [
    {
     "data": {
      "image/png": "[encoded data removed]",
      "text/plain": [
       "<Figure size 640x480 with 1 Axes>"
      ]
     },
     "metadata": {},
     "output_type": "display_data"
    }
   ],
   "source": [
    "# data_object.standard_deviation = stdnew.flatten()  # sim.survey.std\n",
    "plt.semilogy(abs(data_object.dobs), '.r')\n",
    "plt.semilogy(abs(dpred) , 'k.', ms=1)\n",
    "# plt.yscale('symlog')\n",
    "# plt.semilogy(abs(data_object.standard_deviation), 'b.', ms=1)\n",
    "plt.show()"
   ]
  },
  {
   "cell_type": "code",
   "execution_count": 36,
   "metadata": {
    "iooxa": {
     "id": {
      "block": "iGgCQqWfH27OCtRjzc81",
      "project": "q0ZJwGsqqSOExzgbnA6U",
      "version": 1
     },
     "outputId": null
    },
    "tags": []
   },
   "outputs": [
    {
     "name": "stdout",
     "output_type": "stream",
     "text": [
      "\n",
      "Running inversion with SimPEG v0.22.2.dev6+g67b3e9f1c\n",
      "simpeg.InvProblem will set Regularization.reference_model to m0.\n",
      "simpeg.InvProblem will set Regularization.reference_model to m0.\n",
      "simpeg.InvProblem will set Regularization.reference_model to m0.\n",
      "simpeg.InvProblem will set Regularization.reference_model to m0.\n",
      "\n",
      "                    simpeg.InvProblem is setting bfgsH0 to the inverse of the eval2Deriv.\n",
      "                    ***Done using the default solver Pardiso and no solver_opts.***\n",
      "                    \n",
      "model has any nan: 0\n",
      "=============================== Projected GNCG ===============================\n",
      "  #     beta     phi_d     phi_m       f      |proj(x-g)-x|  LS    Comment   \n",
      "-----------------------------------------------------------------------------\n",
      "x0 has any nan: 0\n",
      "   0  2.06e-02  3.81e+07  0.00e+00  3.81e+07    1.25e+07      0              \n",
      "Intel MKL WARNING: Support of Intel(R) Streaming SIMD Extensions 4.2 (Intel(R) SSE4.2) enabled only processors has been deprecated. Intel oneAPI Math Kernel Library 2025.0 will require Intel(R) Advanced Vector Extensions (Intel(R) AVX) instructions.\n",
      "   1  1.03e-02  4.30e+06  3.40e+05  4.30e+06    1.70e+06      0              \n",
      "   2  5.15e-03  5.74e+05  9.02e+05  5.78e+05    2.40e+05      0   Skip BFGS  \n",
      "   3  2.58e-03  7.24e+04  1.52e+06  7.63e+04    3.51e+04      0   Skip BFGS  \n",
      "   4  1.29e-03  1.16e+04  2.32e+06  1.46e+04    3.05e+03      0   Skip BFGS  \n",
      "   5  6.44e-04  8.68e+03  2.67e+06  1.04e+04    1.90e+03      1   Skip BFGS  \n",
      "   6  3.22e-04  6.53e+03  4.55e+06  8.00e+03    3.51e+03      0              \n",
      "   7  1.61e-04  6.18e+03  5.21e+06  7.02e+03    3.77e+03      1              \n",
      "   8  8.05e-05  5.17e+03  6.80e+06  5.72e+03    3.66e+03      1              \n",
      "   9  4.02e-05  4.97e+03  7.77e+06  5.28e+03    3.78e+03      2              \n",
      "  10  2.01e-05  3.28e+03  1.54e+07  3.59e+03    2.50e+03      0              \n",
      "------------------------- STOP! -------------------------\n",
      "1 : |fc-fOld| = 1.6901e+03 <= tolF*(1+|f0|) = 3.8137e+06\n",
      "1 : |xc-x_last| = 5.4826e+01 <= tolX*(1+|x0|) = 8.3162e+01\n",
      "0 : |proj(x-g)-x|    = 2.4998e+03 <= tolG          = 1.0000e-01\n",
      "0 : |proj(x-g)-x|    = 2.4998e+03 <= 1e3*eps       = 1.0000e-02\n",
      "1 : maxIter   =      10    <= iter          =     10\n",
      "------------------------- DONE! -------------------------\n",
      "CPU times: user 1min 13s, sys: 3min 30s, total: 4min 43s\n",
      "Wall time: 40min 24s\n"
     ]
    }
   ],
   "source": [
    "%%time\n",
    "\n",
    "# Optimization\n",
    "opt = optimization.ProjectedGNCG(maxIter=10, maxIterCG=20, upper=np.inf, lower=-np.inf)\n",
    "opt.remember('xc')\n",
    "# Data misfit\n",
    "dmis = data_misfit.L2DataMisfit(data=data_object, simulation=parallel_sim)\n",
    "# Regularization\n",
    "dz = mesh.h[2].min()\n",
    "dx = mesh.h[0].min()\n",
    "regmap = maps.IdentityMap(nP=int(ind_active.sum()))\n",
    "reg = regularization.Sparse(mesh, active_cells=ind_active, mapping=regmap)\n",
    "reg.alpha_s = 1e-8\n",
    "reg.alpha_x = dz/dx\n",
    "reg.alpha_y = dz/dx\n",
    "reg.alpha_z = 1.\n",
    "\n",
    "# Inverse problem\n",
    "inv_prob = inverse_problem.BaseInvProblem(dmis, reg, opt)\n",
    "# Beta schedule\n",
    "beta = directives.BetaSchedule(coolingRate=1, coolingFactor=2)\n",
    "# Initial estimate of beta\n",
    "beta_est = directives.BetaEstimate_ByEig(beta0_ratio=1e0)\n",
    "# Target misfit stop\n",
    "target = directives.TargetMisfit()\n",
    "# Create an inversion object\n",
    "save_dictionary = directives.SaveOutputDictEveryIteration()\n",
    "directive_list = [beta, beta_est, target, save_dictionary]\n",
    "inv = inversion.BaseInversion(inv_prob, directiveList=directive_list)\n",
    "\n",
    "# Set an intitial guess\n",
    "m_0 = np.log(sigma_background[ind_active])\n",
    "m_recovered = inv.run(m_0)"
   ]
  },
  {
   "cell_type": "code",
   "execution_count": 45,
   "metadata": {
    "tags": []
   },
   "outputs": [
    {
     "data": {
      "image/png": "[encoded data removed]",
      "text/plain": [
       "<Figure size 640x480 with 1 Axes>"
      ]
     },
     "metadata": {},
     "output_type": "display_data"
    }
   ],
   "source": [
    "# data_object.standard_deviation = stdnew.flatten()  # sim.survey.std\n",
    "plt.semilogy(abs(data_object.dobs), '.r')\n",
    "plt.semilogy(abs(inv_prob.dpred) , 'kx')\n",
    "# plt.yscale('symlog')\n",
    "# plt.semilogy(abs(data_object.standard_deviation), 'b.', ms=1)\n",
    "plt.show()"
   ]
  },
  {
   "cell_type": "code",
   "execution_count": 46,
   "metadata": {},
   "outputs": [],
   "source": [
    "iteration = len(save_dictionary.outDict)\n",
    "m = save_dictionary.outDict[iteration]['m']\n",
    "sigma_est = mapping*m\n",
    "# pred = save_dictionary.outDict[iteration]['dpred']\n",
    "# DPRED = pred.reshape((n_freq, n_orientation, n_component, n_rx))\n",
    "# DOBS = dpred.reshape((n_freq, n_orientation, n_component, n_rx))\n",
    "# MISFIT = (DPRED-DOBS)/STD"
   ]
  },
  {
   "cell_type": "code",
   "execution_count": 62,
   "metadata": {},
   "outputs": [
    {
     "data": {
      "text/plain": [
       "Text(0, 0.5, 'Northing (m)')"
      ]
     },
     "execution_count": 62,
     "metadata": {},
     "output_type": "execute_result"
    },
    {
     "data": {
      "image/png": "[encoded data removed]",
      "text/plain": [
       "<Figure size 500x500 with 1 Axes>"
      ]
     },
     "metadata": {},
     "output_type": "display_data"
    }
   ],
   "source": [
    "fig, ax = plt.subplots(1,1, figsize=(5, 5))\n",
    "z_loc = -0.\n",
    "y_loc = 0.\n",
    "mesh.plot_slice(\n",
    "    sigma_est, grid=True, normal='Z', ax=ax,\n",
    "    pcolor_opts={\"cmap\":\"turbo\", \"norm\":LogNorm(vmin=5e-3, vmax=1e-1)},\n",
    "    range_x=(rx_loc[:,0].min()-10000, rx_loc[:,0].max()+10000), \n",
    "    range_y=(rx_loc[:,0].min()-10000, rx_loc[:,0].max()+10000), \n",
    "    slice_loc=z_loc\n",
    ")\n",
    "ax.set_yticklabels([])\n",
    "ax.plot(rx_loc[:,0], rx_loc[:,1], 'kx')\n",
    "ax.set_aspect(1)\n",
    "ax.set_xlabel(\"Easting (m)\")\n",
    "ax.set_ylabel(\"Northing (m)\")"
   ]
  },
  {
   "cell_type": "code",
   "execution_count": 60,
   "metadata": {},
   "outputs": [
    {
     "data": {
      "text/plain": [
       "Text(0, 0.5, 'Elevation (m)')"
      ]
     },
     "execution_count": 60,
     "metadata": {},
     "output_type": "execute_result"
    },
    {
     "data": {
      "image/png": "[encoded data removed]",
      "text/plain": [
       "<Figure size 500x500 with 1 Axes>"
      ]
     },
     "metadata": {},
     "output_type": "display_data"
    }
   ],
   "source": [
    "fig, ax = plt.subplots(1,1, figsize=(5, 5))\n",
    "mesh.plot_slice(\n",
    "    sigma_est, grid=False, normal='Y', ax=ax,\n",
    "    pcolor_opts={\"cmap\":\"turbo\", \"norm\":LogNorm(vmin=2e-3, vmax=1e-1)},\n",
    "    range_x=(rx_loc[:,0].min()-10000, rx_loc[:,0].max()+10000), \n",
    "    # range_y=(-lx_core, lx_core*0.1),\n",
    "    slice_loc=y_loc\n",
    ")\n",
    "# ax.set_yticklabels([])\n",
    "# ax.plot(rx_loc[:,0], rx_loc[:,2], 'kx')\n",
    "ax.set_aspect(0.54)\n",
    "ax.set_xlabel(\"Easting (m)\")\n",
    "ax.set_ylabel(\"Elevation (m)\")\n"
   ]
  },
  {
   "cell_type": "code",
   "execution_count": 49,
   "metadata": {},
   "outputs": [],
   "source": [
    "from ipywidgets import interact, widgets"
   ]
  },
  {
   "cell_type": "code",
   "execution_count": 52,
   "metadata": {},
   "outputs": [],
   "source": [
    "# def foo_misfit(i_freq, i_orientation, i_component):\n",
    "#     fig, axs = plt.subplots(1,3, figsize=(15, 5))\n",
    "#     ax1, ax2, ax3 = axs\n",
    "\n",
    "#     vmin = np.min([DOBS[i_freq, i_orientation, i_component,:].min(), DPRED[i_freq, i_orientation, i_component,:].min()])\n",
    "#     vmax = np.max([DOBS[i_freq, i_orientation, i_component,:].max(), DPRED[i_freq, i_orientation, i_component,:].max()])\n",
    "\n",
    "#     out1 = utils.plot2Ddata(rx_loc, DOBS[i_freq, i_orientation, i_component,:], clim=(vmin, vmax), ax=ax1, contourOpts={'cmap':'turbo'}, ncontour=20)\n",
    "#     out2 = utils.plot2Ddata(rx_loc, DPRED[i_freq, i_orientation, i_component,:], clim=(vmin, vmax), ax=ax2, contourOpts={'cmap':'turbo'}, ncontour=20)\n",
    "#     out3 = utils.plot2Ddata(rx_loc, MISFIT[i_freq, i_orientation, i_component,:], clim=(-5, 5), ax=ax3, contourOpts={'cmap':'turbo'}, ncontour=20)\n",
    "\n",
    "#     ax.plot(rx_loc[:,0], rx_loc[:,1], 'kx')"
   ]
  },
  {
   "cell_type": "code",
   "execution_count": 53,
   "metadata": {},
   "outputs": [],
   "source": [
    "# interact(\n",
    "#     foo_misfit,\n",
    "#     i_freq=widgets.IntSlider(min=0, max=n_freq-1),\n",
    "#     i_orientation=widgets.IntSlider(min=0, max=n_orientation-1), \n",
    "#     i_component=widgets.IntSlider(min=0, max=n_component-1), \n",
    "# )"
   ]
  },
  {
   "cell_type": "code",
   "execution_count": 63,
   "metadata": {
    "tags": []
   },
   "outputs": [],
   "source": [
    "models = {}\n",
    "models[\"estimated_sigma\"] = sigma_est\n",
    "mesh.write_vtk(\"yellowstone\",models=models)"
   ]
  },
  {
   "cell_type": "code",
   "execution_count": null,
   "metadata": {},
   "outputs": [],
   "source": []
  }
 ],
 "metadata": {
  "iooxa": {
   "id": {
    "block": "5HjFWgv11Z1VFqlzXxGk",
    "project": "q0ZJwGsqqSOExzgbnA6U",
    "version": 1
   }
  },
  "kernelspec": {
   "display_name": "Python 3 (ipykernel)",
   "language": "python",
   "name": "python3"
  },
  "language_info": {
   "codemirror_mode": {
    "name": "ipython",
    "version": 3
   },
   "file_extension": ".py",
   "mimetype": "text/x-python",
   "name": "python",
   "nbconvert_exporter": "python",
   "pygments_lexer": "ipython3",
   "version": "3.11.9"
  }
 },
 "nbformat": 4,
 "nbformat_minor": 4
}
