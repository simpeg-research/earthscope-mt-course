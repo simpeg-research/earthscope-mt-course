{
 "cells": [
  {
   "cell_type": "markdown",
   "metadata": {},
   "source": [
    "# Simpeg 2D inversion Using MTpy-v2 tools\n",
    "\n",
    "This is an example of how to use MTpy-v2 tools to integrate with Simpeg to build an inversion.  \n",
    "\n",
    "The recipe in MTpy-v2 is to create a quadree mesh from the given data, then invert the data using computed data errors\n",
    "\n",
    "\n"
   ]
  },
  {
   "cell_type": "code",
   "execution_count": null,
   "metadata": {},
   "outputs": [],
   "source": [
    "from mtpy_data import FWD_NE_FAULTS_PROFILE_LIST\n",
    "\n",
    "from mtpy import MTData\n",
    "from mtpy.modeling.simpeg.recipes import Simpeg2D"
   ]
  },
  {
   "cell_type": "code",
   "execution_count": null,
   "metadata": {},
   "outputs": [],
   "source": []
  }
 ],
 "metadata": {
  "kernelspec": {
   "display_name": "py39",
   "language": "python",
   "name": "python3"
  },
  "language_info": {
   "name": "python",
   "version": "3.9.18"
  }
 },
 "nbformat": 4,
 "nbformat_minor": 2
}
