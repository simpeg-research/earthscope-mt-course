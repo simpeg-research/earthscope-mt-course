{
 "cells": [
  {
   "cell_type": "markdown",
   "id": "280b24da-91ca-41d1-874c-08e522313458",
   "metadata": {},
   "source": [
    "# MTH5 Example 01\n",
    "\n",
    "## Example of Working with a Version 0.1.0 MTH5 File\n",
    "\n",
    "There are 2 different flavors of MTH5 files at the moment. Version 0.1.0 can only contain one survey, whereas version 0.2.0 can contain multiple surveys.  There are benfits to both.  If you are only storing a single station per file, like for quicker archiving and sharing, then version 0.1.0 is a good choice.  If you are storing multiple stations across different surveys, or are storing transfer functions from multiple surveys, then version 0.2.0 is the correct choice.  \n",
    "\n",
    "We will demonstrate here how to work with a version 0.1.0 file.  "
   ]
  },
  {
   "cell_type": "code",
   "execution_count": 1,
   "id": "89f76c47-b02d-4664-bb2e-a9d3a4598eff",
   "metadata": {},
   "outputs": [
    {
     "name": "stderr",
     "output_type": "stream",
     "text": [
      "2022-09-26 13:35:58,864 [line 135] mth5.setup_logger - INFO: Logging file can be found C:\\Users\\jpeacock\\OneDrive - DOI\\Documents\\GitHub\\mth5\\logs\\mth5_debug.log\n"
     ]
    }
   ],
   "source": [
    "from mth5.mth5 import MTH5"
   ]
  },
  {
   "cell_type": "markdown",
   "id": "edfab03e-c685-4b13-8af9-3eb0a139f75f",
   "metadata": {},
   "source": [
    "## Initialize an MTH5 object with file version 0.1.0"
   ]
  },
  {
   "cell_type": "code",
   "execution_count": 2,
   "id": "20caa054-8835-40ab-b3db-89f3f6d8dd65",
   "metadata": {},
   "outputs": [],
   "source": [
    "m = MTH5(file_version=\"0.1.0\")"
   ]
  },
  {
   "cell_type": "markdown",
   "id": "a60cd970-5e4d-434a-a703-082e450d8df9",
   "metadata": {},
   "source": [
    "### File Attributes\n",
    "\n",
    "Have a look at the attributes of the file, these are the high level metadata that can be used to do a quick validation of the file like checking the version and file type.  \n",
    "\n",
    "`file_attributes` is a property of an `MTH5` object that is a convenience to summarize attributes.  Each of these can be set except for `file.access` by doing `m.file.type = \"mth5\"`."
   ]
  },
  {
   "cell_type": "code",
   "execution_count": 3,
   "id": "4b7f8d2b-a654-422f-b4f1-7f84834bfe80",
   "metadata": {},
   "outputs": [
    {
     "data": {
      "text/plain": [
       "{'file.type': 'MTH5',\n",
       " 'file.version': '0.1.0',\n",
       " 'file.access.platform': 'Windows-10-10.0.19044-SP0',\n",
       " 'file.access.time': '2022-09-26T20:35:59.111224+00:00',\n",
       " 'mth5.software.version': '0.3.0',\n",
       " 'mth5.software.name': 'mth5',\n",
       " 'data_level': 1}"
      ]
     },
     "execution_count": 3,
     "metadata": {},
     "output_type": "execute_result"
    }
   ],
   "source": [
    "m.file_attributes"
   ]
  },
  {
   "cell_type": "markdown",
   "id": "9052986a-64a2-43ff-881e-55e384128640",
   "metadata": {},
   "source": [
    "### Dataset Options\n",
    "\n",
    "Dataset options dictate how datasets (time series of transfer function data) are compressed and stored. Normally the defaults work well but if you would like smaller files, you may want to change the compression options or compression type.  For more information see [h5py compression](https://docs.h5py.org/en/stable/high/dataset.html).\n",
    "\n",
    "Note that if you use MTH5 in parallel then you cannot have any compression.  \n",
    "\n",
    "Here are the data set options, where `compression_opts` will vary depending on `compression`."
   ]
  },
  {
   "cell_type": "code",
   "execution_count": 4,
   "id": "0cba936c-7680-4a99-ad88-8de61b2ca69f",
   "metadata": {},
   "outputs": [
    {
     "data": {
      "text/plain": [
       "{'compression': 'gzip',\n",
       " 'compression_opts': 4,\n",
       " 'shuffle': True,\n",
       " 'fletcher32': True}"
      ]
     },
     "execution_count": 4,
     "metadata": {},
     "output_type": "execute_result"
    }
   ],
   "source": [
    "m.dataset_options"
   ]
  },
  {
   "cell_type": "markdown",
   "id": "70331ba5-2508-48dd-97cb-f72d31b141dc",
   "metadata": {},
   "source": [
    "The file is currently not open yet and you will get printed message informing you as much."
   ]
  },
  {
   "cell_type": "code",
   "execution_count": 5,
   "id": "13810e4e-41b2-4f69-8ed5-534e6fad88ab",
   "metadata": {},
   "outputs": [
    {
     "data": {
      "text/plain": [
       "HDF5 file is closed and cannot be accessed."
      ]
     },
     "execution_count": 5,
     "metadata": {},
     "output_type": "execute_result"
    }
   ],
   "source": [
    "m"
   ]
  },
  {
   "cell_type": "markdown",
   "id": "d2ce0c6d-297e-4568-89ac-09f58db26ade",
   "metadata": {},
   "source": [
    "## Open a new file\n",
    "We will open the file in mode `w` here, which will overwrite the file if it already exists.  If you don't want to do that or are unsure if a file already exists the safest option is using mode `a`. This is the default mode of opening a file to provide the most flexibility to the user.  If `r` is the mode then you will not have write privelages so you can't change anything in the file.  This is a good option if you just want to plot data."
   ]
  },
  {
   "cell_type": "code",
   "execution_count": 6,
   "id": "7530a2d5-b87b-46b3-b2c0-bba6b1be39b2",
   "metadata": {},
   "outputs": [
    {
     "name": "stderr",
     "output_type": "stream",
     "text": [
      "2022-09-26 13:35:59,179 [line 605] mth5.mth5.MTH5.open_mth5 - WARNING: example.h5 will be overwritten in 'w' mode\n",
      "2022-09-26 13:35:59,673 [line 672] mth5.mth5.MTH5._initialize_file - INFO: Initialized MTH5 0.1.0 file example.h5 in mode w\n"
     ]
    }
   ],
   "source": [
    "m = m.open_mth5(r\"example.h5\", \"w\")"
   ]
  },
  {
   "cell_type": "markdown",
   "id": "2a402400-d7a3-481e-b998-7117e1448224",
   "metadata": {},
   "source": [
    "Now that we have initiated a file, let's see what's in an empty file."
   ]
  },
  {
   "cell_type": "code",
   "execution_count": 7,
   "id": "e7b9de3c-1c4d-4055-ba95-05012cc2bb59",
   "metadata": {},
   "outputs": [
    {
     "data": {
      "text/plain": [
       "/:\n",
       "====================\n",
       "    |- Group: Survey\n",
       "    ----------------\n",
       "        |- Group: Filters\n",
       "        -----------------\n",
       "            |- Group: coefficient\n",
       "            ---------------------\n",
       "            |- Group: fap\n",
       "            -------------\n",
       "            |- Group: fir\n",
       "            -------------\n",
       "            |- Group: time_delay\n",
       "            --------------------\n",
       "            |- Group: zpk\n",
       "            -------------\n",
       "        |- Group: Reports\n",
       "        -----------------\n",
       "        |- Group: Standards\n",
       "        -------------------\n",
       "            --> Dataset: summary\n",
       "            ......................\n",
       "        |- Group: Stations\n",
       "        ------------------\n",
       "        --> Dataset: channel_summary\n",
       "        ..............................\n",
       "        --> Dataset: tf_summary\n",
       "        ........................."
      ]
     },
     "execution_count": 7,
     "metadata": {},
     "output_type": "execute_result"
    }
   ],
   "source": [
    "m"
   ]
  },
  {
   "cell_type": "markdown",
   "id": "b5cde717-795d-4e2c-8348-ddc8bec8a396",
   "metadata": {},
   "source": [
    "We can see that there are default groups that are initiated by default.  And here are the methods an MTH5 object contains.   You can open/close an MTH5 file; add/remove `station`, `run`, `channel`;  read from an `mt_metadata.timeseries.Experiment` object to fill the metadata and structure before adding data and create an `mt_metadata.timeseries.Experiment` object for archiving.  "
   ]
  },
  {
   "cell_type": "markdown",
   "id": "fcd5b402-f71c-465b-9d02-f2c6137aed23",
   "metadata": {},
   "source": [
    "### MTH5 Methods\n",
    "\n",
    "There are a bunch of convenince methods to access different parts of the file.  Here is a list of those methods."
   ]
  },
  {
   "cell_type": "code",
   "execution_count": 8,
   "id": "d2487646-7f43-4dfc-addf-b83be57396ab",
   "metadata": {
    "tags": []
   },
   "outputs": [
    {
     "name": "stderr",
     "output_type": "stream",
     "text": [
      "2022-09-26 13:35:59,736 [line 471] mth5.mth5.MTH5.experiment_group - INFO: File version 0.1.0 does not have an Experiment Group\n",
      "2022-09-26 13:35:59,763 [line 498] mth5.mth5.MTH5.surveys_group - INFO: File version 0.1.0 does not have a survey_group, try surveys_group\n"
     ]
    },
    {
     "name": "stdout",
     "output_type": "stream",
     "text": [
      "add_channel\n",
      "add_run\n",
      "add_station\n",
      "add_survey\n",
      "add_transfer_function\n",
      "close_mth5\n",
      "from_experiment\n",
      "from_reference\n",
      "get_channel\n",
      "get_run\n",
      "get_station\n",
      "get_survey\n",
      "get_transfer_function\n",
      "h5_is_read\n",
      "h5_is_write\n",
      "has_group\n",
      "open_mth5\n",
      "remove_channel\n",
      "remove_run\n",
      "remove_station\n",
      "remove_survey\n",
      "remove_transfer_function\n",
      "to_experiment\n",
      "validate_file\n"
     ]
    }
   ],
   "source": [
    "print(\"\\n\".join(sorted([func for func in dir(m) if callable(getattr(m, func)) and not func.startswith(\"_\")])))"
   ]
  },
  {
   "cell_type": "markdown",
   "id": "d4b203c5-6a0c-4b5b-94ef-42aa1a6ba832",
   "metadata": {},
   "source": [
    "## Add a station\n",
    "Here we will add a station called `mt001`.  This will return a `StationGroup` object."
   ]
  },
  {
   "cell_type": "code",
   "execution_count": 9,
   "id": "c836574c-c35d-4d73-8f0f-fd2867af9325",
   "metadata": {},
   "outputs": [],
   "source": [
    "station_group = m.add_station(\"mt001\")"
   ]
  },
  {
   "cell_type": "markdown",
   "id": "55c781e3-7299-4f10-8f49-222e2b7b4ecf",
   "metadata": {},
   "source": [
    "Add some metadata to this station like location, who acquired it, and the reference frame in which the data were collected."
   ]
  },
  {
   "cell_type": "code",
   "execution_count": 10,
   "id": "1fc618bf-f291-4a44-bca5-0a3c8d6968d3",
   "metadata": {},
   "outputs": [],
   "source": [
    "station_group.metadata.location.latitude = \"40:05:01\"\n",
    "station_group.metadata.location.longitude = -122.3432\n",
    "station_group.metadata.location.elevation = 403.1\n",
    "station_group.metadata.acquired_by.author = \"me\"\n",
    "station_group.metadata.orientation.reference_frame = \"geomagnetic\"\n",
    "\n",
    "# IMPORTANT: Must always use the write_metadata method when metadata is updated.\n",
    "station_group.write_metadata()"
   ]
  },
  {
   "cell_type": "code",
   "execution_count": 11,
   "id": "ff79edf6-671f-4d71-9711-f83dfd0e01a5",
   "metadata": {},
   "outputs": [
    {
     "data": {
      "text/plain": [
       "{\n",
       "    \"station\": {\n",
       "        \"acquired_by.name\": \"me\",\n",
       "        \"channels_recorded\": [],\n",
       "        \"data_type\": \"BBMT\",\n",
       "        \"geographic_name\": null,\n",
       "        \"hdf5_reference\": \"<HDF5 object reference>\",\n",
       "        \"id\": \"mt001\",\n",
       "        \"location.declination.model\": \"WMM\",\n",
       "        \"location.declination.value\": 0.0,\n",
       "        \"location.elevation\": 403.1,\n",
       "        \"location.latitude\": 40.08361111111111,\n",
       "        \"location.longitude\": -122.3432,\n",
       "        \"mth5_type\": \"Station\",\n",
       "        \"orientation.method\": null,\n",
       "        \"orientation.reference_frame\": \"geomagnetic\",\n",
       "        \"provenance.creation_time\": \"1980-01-01T00:00:00+00:00\",\n",
       "        \"provenance.software.author\": \"none\",\n",
       "        \"provenance.software.name\": null,\n",
       "        \"provenance.software.version\": null,\n",
       "        \"provenance.submitter.email\": null,\n",
       "        \"provenance.submitter.organization\": null,\n",
       "        \"run_list\": [],\n",
       "        \"time_period.end\": \"1980-01-01T00:00:00+00:00\",\n",
       "        \"time_period.start\": \"1980-01-01T00:00:00+00:00\"\n",
       "    }\n",
       "}"
      ]
     },
     "execution_count": 11,
     "metadata": {},
     "output_type": "execute_result"
    }
   ],
   "source": [
    "station_group.metadata"
   ]
  },
  {
   "cell_type": "markdown",
   "id": "112d5420-0410-4b56-b71c-439d82517cad",
   "metadata": {},
   "source": [
    "### Add a Run \n",
    "We can now add a run to the new station.  We can do this in 2 ways, one directly from the `m` the `MTH5` object, or from the newly created `station_group`"
   ]
  },
  {
   "cell_type": "code",
   "execution_count": 12,
   "id": "15a578b0-2d60-4213-b301-6ad277c1636b",
   "metadata": {},
   "outputs": [],
   "source": [
    "run_01 = m.add_run(\"mt001\", \"001\")\n",
    "run_02 = station_group.add_run(\"002\")"
   ]
  },
  {
   "cell_type": "code",
   "execution_count": 13,
   "id": "4603cb6b-a500-456b-b491-51551c51eb99",
   "metadata": {},
   "outputs": [
    {
     "data": {
      "text/plain": [
       "/Survey/Stations/mt001:\n",
       "====================\n",
       "    |- Group: 001\n",
       "    -------------\n",
       "    |- Group: 002\n",
       "    -------------\n",
       "    |- Group: Transfer_Functions\n",
       "    ----------------------------"
      ]
     },
     "execution_count": 13,
     "metadata": {},
     "output_type": "execute_result"
    }
   ],
   "source": [
    "station_group"
   ]
  },
  {
   "cell_type": "markdown",
   "id": "bed99adf-06ee-4b8c-9f6b-e076fdc49b56",
   "metadata": {},
   "source": [
    "### Add a Channel\n",
    "Again we can do this in 2 ways: directly from the `m` the `MTH5` object, or from the newly created `run_01` or `run_02` group.  There are only 3 types of channels `electric`, `magnetic`, and `auxiliary` and this needs to be specified when a channel is initiated. We will initate the channel with `data=None`, which will create an empty data set."
   ]
  },
  {
   "cell_type": "code",
   "execution_count": 14,
   "id": "7b99ad5b-07d5-4805-b0cc-2aa4aee5bb09",
   "metadata": {},
   "outputs": [],
   "source": [
    "ex = m.add_channel(\"mt001\", \"001\", \"ex\", \"electric\", None)\n",
    "hy = run_01.add_channel(\"hy\", \"magnetic\", None)"
   ]
  },
  {
   "cell_type": "code",
   "execution_count": 15,
   "id": "8a3816d8-1d42-4c05-9621-a79a7eeaee44",
   "metadata": {},
   "outputs": [
    {
     "data": {
      "text/plain": [
       "/Survey/Stations/mt001/001:\n",
       "====================\n",
       "    --> Dataset: ex\n",
       "    .................\n",
       "    --> Dataset: hy\n",
       "    ................."
      ]
     },
     "execution_count": 15,
     "metadata": {},
     "output_type": "execute_result"
    }
   ],
   "source": [
    "run_01"
   ]
  },
  {
   "cell_type": "markdown",
   "id": "05083264-e8ab-459d-9c21-d136f7f0567f",
   "metadata": {},
   "source": [
    "Now, let's see what the contents are of this file"
   ]
  },
  {
   "cell_type": "code",
   "execution_count": 16,
   "id": "7c75a8b1-576a-4944-8cfb-908167ea2b9a",
   "metadata": {},
   "outputs": [
    {
     "data": {
      "text/plain": [
       "/:\n",
       "====================\n",
       "    |- Group: Survey\n",
       "    ----------------\n",
       "        |- Group: Filters\n",
       "        -----------------\n",
       "            |- Group: coefficient\n",
       "            ---------------------\n",
       "            |- Group: fap\n",
       "            -------------\n",
       "            |- Group: fir\n",
       "            -------------\n",
       "            |- Group: time_delay\n",
       "            --------------------\n",
       "            |- Group: zpk\n",
       "            -------------\n",
       "        |- Group: Reports\n",
       "        -----------------\n",
       "        |- Group: Standards\n",
       "        -------------------\n",
       "            --> Dataset: summary\n",
       "            ......................\n",
       "        |- Group: Stations\n",
       "        ------------------\n",
       "            |- Group: mt001\n",
       "            ---------------\n",
       "                |- Group: 001\n",
       "                -------------\n",
       "                    --> Dataset: ex\n",
       "                    .................\n",
       "                    --> Dataset: hy\n",
       "                    .................\n",
       "                |- Group: 002\n",
       "                -------------\n",
       "                |- Group: Transfer_Functions\n",
       "                ----------------------------\n",
       "        --> Dataset: channel_summary\n",
       "        ..............................\n",
       "        --> Dataset: tf_summary\n",
       "        ........................."
      ]
     },
     "execution_count": 16,
     "metadata": {},
     "output_type": "execute_result"
    }
   ],
   "source": [
    "m"
   ]
  },
  {
   "cell_type": "markdown",
   "id": "ab9fc3cd-80b1-4502-b360-d25820ec5c50",
   "metadata": {},
   "source": [
    "## Channel Summary\n",
    "\n",
    "This is a summary of all channels in the file and can be used to query the data easily."
   ]
  },
  {
   "cell_type": "code",
   "execution_count": 17,
   "id": "f9ee5727-a679-40d8-86aa-ed2cb9dcaa8b",
   "metadata": {},
   "outputs": [
    {
     "name": "stdout",
     "output_type": "stream",
     "text": [
      "Wall time: 0 ns\n"
     ]
    },
    {
     "data": {
      "text/html": [
       "<div>\n",
       "<style scoped>\n",
       "    .dataframe tbody tr th:only-of-type {\n",
       "        vertical-align: middle;\n",
       "    }\n",
       "\n",
       "    .dataframe tbody tr th {\n",
       "        vertical-align: top;\n",
       "    }\n",
       "\n",
       "    .dataframe thead th {\n",
       "        text-align: right;\n",
       "    }\n",
       "</style>\n",
       "<table border=\"1\" class=\"dataframe\">\n",
       "  <thead>\n",
       "    <tr style=\"text-align: right;\">\n",
       "      <th></th>\n",
       "      <th>survey</th>\n",
       "      <th>station</th>\n",
       "      <th>run</th>\n",
       "      <th>latitude</th>\n",
       "      <th>longitude</th>\n",
       "      <th>elevation</th>\n",
       "      <th>component</th>\n",
       "      <th>start</th>\n",
       "      <th>end</th>\n",
       "      <th>n_samples</th>\n",
       "      <th>sample_rate</th>\n",
       "      <th>measurement_type</th>\n",
       "      <th>azimuth</th>\n",
       "      <th>tilt</th>\n",
       "      <th>units</th>\n",
       "      <th>hdf5_reference</th>\n",
       "      <th>run_hdf5_reference</th>\n",
       "      <th>station_hdf5_reference</th>\n",
       "    </tr>\n",
       "  </thead>\n",
       "  <tbody>\n",
       "    <tr>\n",
       "      <th>0</th>\n",
       "      <td>none</td>\n",
       "      <td>mt001</td>\n",
       "      <td>001</td>\n",
       "      <td>40.083611</td>\n",
       "      <td>-122.3432</td>\n",
       "      <td>403.1</td>\n",
       "      <td>ex</td>\n",
       "      <td>1980-01-01 00:00:00+00:00</td>\n",
       "      <td>1980-01-01 00:00:00+00:00</td>\n",
       "      <td>1</td>\n",
       "      <td>0.0</td>\n",
       "      <td>electric</td>\n",
       "      <td>0.0</td>\n",
       "      <td>0.0</td>\n",
       "      <td>none</td>\n",
       "      <td>&lt;HDF5 object reference&gt;</td>\n",
       "      <td>&lt;HDF5 object reference&gt;</td>\n",
       "      <td>&lt;HDF5 object reference&gt;</td>\n",
       "    </tr>\n",
       "    <tr>\n",
       "      <th>1</th>\n",
       "      <td>none</td>\n",
       "      <td>mt001</td>\n",
       "      <td>001</td>\n",
       "      <td>40.083611</td>\n",
       "      <td>-122.3432</td>\n",
       "      <td>403.1</td>\n",
       "      <td>hy</td>\n",
       "      <td>1980-01-01 00:00:00+00:00</td>\n",
       "      <td>1980-01-01 00:00:00+00:00</td>\n",
       "      <td>1</td>\n",
       "      <td>0.0</td>\n",
       "      <td>magnetic</td>\n",
       "      <td>0.0</td>\n",
       "      <td>0.0</td>\n",
       "      <td>none</td>\n",
       "      <td>&lt;HDF5 object reference&gt;</td>\n",
       "      <td>&lt;HDF5 object reference&gt;</td>\n",
       "      <td>&lt;HDF5 object reference&gt;</td>\n",
       "    </tr>\n",
       "  </tbody>\n",
       "</table>\n",
       "</div>"
      ],
      "text/plain": [
       "  survey station  run   latitude  longitude  elevation component  \\\n",
       "0   none   mt001  001  40.083611  -122.3432      403.1        ex   \n",
       "1   none   mt001  001  40.083611  -122.3432      403.1        hy   \n",
       "\n",
       "                      start                       end  n_samples  sample_rate  \\\n",
       "0 1980-01-01 00:00:00+00:00 1980-01-01 00:00:00+00:00          1          0.0   \n",
       "1 1980-01-01 00:00:00+00:00 1980-01-01 00:00:00+00:00          1          0.0   \n",
       "\n",
       "  measurement_type  azimuth  tilt units           hdf5_reference  \\\n",
       "0         electric      0.0   0.0  none  <HDF5 object reference>   \n",
       "1         magnetic      0.0   0.0  none  <HDF5 object reference>   \n",
       "\n",
       "        run_hdf5_reference   station_hdf5_reference  \n",
       "0  <HDF5 object reference>  <HDF5 object reference>  \n",
       "1  <HDF5 object reference>  <HDF5 object reference>  "
      ]
     },
     "execution_count": 17,
     "metadata": {},
     "output_type": "execute_result"
    }
   ],
   "source": [
    "%time\n",
    "\n",
    "m.channel_summary.clear_table()\n",
    "m.channel_summary.summarize()\n",
    "\n",
    "ch_df = m.channel_summary.to_dataframe()\n",
    "ch_df"
   ]
  },
  {
   "cell_type": "markdown",
   "id": "9a4ffb26-1d08-43f7-b006-d8060772629c",
   "metadata": {},
   "source": [
    "### Example of using the Channel Summary\n",
    "\n",
    "Because the `channel_summary` is a `pandas.DataFrame` we can use all the fancy indexing and searching that `pandas` provides.  Lets say we want to get a run, but aren't sure of the names"
   ]
  },
  {
   "cell_type": "code",
   "execution_count": 18,
   "id": "8f3e702f-cfcf-443e-924b-dc870f8433b0",
   "metadata": {},
   "outputs": [
    {
     "name": "stdout",
     "output_type": "stream",
     "text": [
      "001\n"
     ]
    }
   ],
   "source": [
    "run_id = ch_df.run.unique()[0]\n",
    "print(run_id)"
   ]
  },
  {
   "cell_type": "markdown",
   "id": "6eff5f7a-7798-45b0-8fe5-bc79f6014b61",
   "metadata": {},
   "source": [
    "Now we want to use the HDF5 reference to get that run without knowing much about the other metadata"
   ]
  },
  {
   "cell_type": "code",
   "execution_count": 19,
   "id": "fcd72c19-d52e-4d87-a792-fd0a10d82282",
   "metadata": {},
   "outputs": [],
   "source": [
    "run_hdf5_reference = ch_df.loc[ch_df.run == run_id, \"run_hdf5_reference\"][0]\n",
    "run_group = m.from_reference(run_hdf5_reference)"
   ]
  },
  {
   "cell_type": "markdown",
   "id": "1c1dd037-8b48-4bf9-8036-7d5c973a69aa",
   "metadata": {},
   "source": [
    "## Close MTH5 file\n",
    "This part is important, be sure to close the file in order to save any changes.  This function flushes metadata and data to the HDF5 file and then closes it.  **Note** that once a file is closed all groups lose their link to the file and cannot retrieve any data."
   ]
  },
  {
   "cell_type": "code",
   "execution_count": 20,
   "id": "2edf63a0-dc24-4f1b-a27a-4265c2bd5446",
   "metadata": {},
   "outputs": [
    {
     "name": "stderr",
     "output_type": "stream",
     "text": [
      "2022-09-26 13:36:00,337 [line 753] mth5.mth5.MTH5.close_mth5 - INFO: Flushing and closing example.h5\n",
      "2022-09-26 13:36:00,342 [line 113] mth5.groups.base.Station.__str__ - WARNING: MTH5 file is closed and cannot be accessed.\n"
     ]
    },
    {
     "data": {
      "text/plain": [
       "MTH5 file is closed and cannot be accessed."
      ]
     },
     "execution_count": 20,
     "metadata": {},
     "output_type": "execute_result"
    }
   ],
   "source": [
    "m.close_mth5()\n",
    "station_group"
   ]
  },
  {
   "cell_type": "code",
   "execution_count": null,
   "id": "d518b120-b24c-4475-a8cd-7d1dc4047347",
   "metadata": {},
   "outputs": [],
   "source": []
  }
 ],
 "metadata": {
  "kernelspec": {
   "display_name": "Python 3 (ipykernel)",
   "language": "python",
   "name": "python3"
  },
  "language_info": {
   "codemirror_mode": {
    "name": "ipython",
    "version": 3
   },
   "file_extension": ".py",
   "mimetype": "text/x-python",
   "name": "python",
   "nbconvert_exporter": "python",
   "pygments_lexer": "ipython3",
   "version": "3.8.13"
  }
 },
 "nbformat": 4,
 "nbformat_minor": 5
}
