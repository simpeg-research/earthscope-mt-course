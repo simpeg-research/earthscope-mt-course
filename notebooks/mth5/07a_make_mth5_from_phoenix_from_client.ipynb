{
 "cells": [
  {
   "cell_type": "markdown",
   "id": "795ebd80-8a0f-479b-a888-161a5dfacbae",
   "metadata": {},
   "source": [
    "# MTH5 Example 07\n",
    "\n",
    "## Make an MTH5 from Phoenix Data\n",
    "\n",
    "This example demonstrates how to read Phoenix data into an MTH5 file.  These data are provided by Phoenix Geophysical Ltd. Provided are 3 synchronously recored stations.  The Phoenix instruments MTU-5 series are broadband instruments with multiple sample rates.  \n",
    "\n",
    "The instrumnet is constantly recording at 24 kHz and depending on the input paramters those data are decimated or chunked into different data files.  A common setup is to record continuously at 150 samples per second and record short bursts of 24 kHz for just a few seconds every 15 minutes or so.  In this case the continuous 24 kHz is decimated down to 150 Hz and stored in files with a length of 6 minutes.  The short bursts are also stored into a separate file.  This is done for each channel recorded.  Its common for broadband instruments to record each channel individually making it easier to buffer.  \n",
    "\n",
    "A challenge arises when you have the short bursts is that you will have a ton of runs.  Luckily HDF5 can handle this, we just have to organize it properly.  And figure out which file belongs where.  A `PhoenixCollection` object is provided for just this task. "
   ]
  },
  {
   "cell_type": "markdown",
   "id": "74989d46-d13b-47e8-8189-17f515cc736a",
   "metadata": {},
   "source": [
    "## Imports"
   ]
  },
  {
   "cell_type": "code",
   "execution_count": 1,
   "id": "d5083c86-ebea-41d1-ade6-87e2de073b84",
   "metadata": {},
   "outputs": [],
   "source": [
    "from pathlib import Path\n",
    "\n",
    "from mth5.clients import MakeMTH5"
   ]
  },
  {
   "cell_type": "markdown",
   "id": "b56259e6-b397-40c7-93e4-6ac30d1cdd68",
   "metadata": {},
   "source": [
    "## Data Directory\n",
    "\n",
    "Specify the station directory.  Phoenix files place each channel in a folder under the station directory named by the channel number.  There is also a `recmeta.json` file that has metadata output by the receiver that can be useful.  In the `PhoenixGeopPy/sample_data` there are 2 folders one for native data, these are `.bin` files which are the raw data in counts sampled at 24k.  There is also a folder for segmented files, these files are calibrated to millivolts and decimated or segmented data according to the recording configuration.  Most of the time you would use the segmented files? "
   ]
  },
  {
   "cell_type": "code",
   "execution_count": 5,
   "id": "6348263b-79f2-4bae-9981-cf4268d7a48b",
   "metadata": {},
   "outputs": [],
   "source": [
    "#station_dir = Path().cwd().parent.parent.joinpath(\"data\", \"time_series\", \"phoenix\")\n",
    "station_dir = Path(r\"c:\\Users\\jpeacock\\OneDrive - DOI\\mt\\mt_short_course\\data\\phx\\9043\")"
   ]
  },
  {
   "cell_type": "markdown",
   "id": "fe1eafd2",
   "metadata": {},
   "source": [
    "## Make an MTH5 using MakeMTH5 Clients\n",
    "\n",
    "A convenience class has been developed to make it easier to build MTH5 from data.  Here we will demonstrate how one would build an MTH5 from Phoenix MTU-5c data.  The important things you need to do if you are collecting data with Phoenix instruments or working with Phoenix data is to export the receiver and sensor calibration files using the Phoenix software EMPower.  Export these into a folder that makes logical sens to you.  A common folder name would be `calibrations`.\n",
    "\n",
    "The classmethod `MakeMTH5.from_phoenix` will look in the data folder for the data files.  Phoenix organizes the data into folder for each channel and data are cached every 6 minutes usually, this will organize those files into the longest possible continuous runs for the 150 samples/second data.  Similarly for the 24k samples/second data runs will be created for each burst, so you will have a lot of them.  \n",
    "\n",
    "You will give it the `sample_rates` that you would like to archive in the MTH5.\n",
    "\n",
    "`receiver_calibration_dict` can be a dictionary where keys are the receiver ID numbers and the values are the paths to the `rxcal.json` files, **or** the simplest way is to give it a path to the location of the `rxcal.json` files you exported from EMPower and the code will sort them out and match them with the appropriate channel using the `recmeta.json` file.\n",
    "\n",
    "`sensor_calibration_dict` can be a dictionary where keys are the sensor ID numbers and the values are `PhoenixCalibration` objects, **or** the simplest is to give it a path to the `scal.json` files exported from EMPower.  The code will match the calibrations to the appropriate channel using the information in `recmeta.json` file.\n",
    "\n",
    "You can set the `mth5_filename` to something useful, default is `from_phoenix.h5`.\n",
    "\n",
    "You can set the `save_path` which can be the full path to the new H5 file or the directory to save to."
   ]
  },
  {
   "cell_type": "code",
   "execution_count": 6,
   "id": "2a32b926",
   "metadata": {},
   "outputs": [
    {
     "name": "stdout",
     "output_type": "stream",
     "text": [
      "\u001b[1m2024-10-14T13:03:17.636877-0700 | INFO | mth5.mth5 | _initialize_file | Initialized MTH5 0.2.0 file c:\\Users\\jpeacock\\OneDrive - DOI\\mt\\mt_short_course\\data\\phx\\9043\\remote_03.h5 in mode w\u001b[0m\n",
      "\u001b[1m2024-10-14T13:04:39.192671-0700 | INFO | mth5.mth5 | close_mth5 | Flushing and closing c:\\Users\\jpeacock\\OneDrive - DOI\\mt\\mt_short_course\\data\\phx\\9043\\remote_03.h5\u001b[0m\n"
     ]
    }
   ],
   "source": [
    "phx_mth5_fn = MakeMTH5.from_phoenix(\n",
    "    station_dir,\n",
    "    mth5_filename=\"remote_03.h5\",\n",
    "    sample_rates=[150, 24000],\n",
    "    receiver_calibration_dict=Path(\n",
    "        r\"c:\\Users\\jpeacock\\OneDrive - DOI\\mt\\mt_short_course\\data\\phx\\9043\\calibrations\"\n",
    "        #r\"\\data\\phx\\remote\\calibrations\"\n",
    "    ),\n",
    "    sensor_calibration_dict=Path(\n",
    "        r\"c:\\Users\\jpeacock\\OneDrive - DOI\\mt\\mt_short_course\\data\\phx\\9043\\calibrations\"\n",
    "        #r\"\\data\\phx\\remote\\calibrations\"\n",
    "    ),\n",
    ")"
   ]
  },
  {
   "cell_type": "code",
   "execution_count": null,
   "id": "47db713b",
   "metadata": {},
   "outputs": [],
   "source": []
  }
 ],
 "metadata": {
  "kernelspec": {
   "display_name": "py39",
   "language": "python",
   "name": "python3"
  },
  "language_info": {
   "codemirror_mode": {
    "name": "ipython",
    "version": 3
   },
   "file_extension": ".py",
   "mimetype": "text/x-python",
   "name": "python",
   "nbconvert_exporter": "python",
   "pygments_lexer": "ipython3",
   "version": "3.9.18"
  }
 },
 "nbformat": 4,
 "nbformat_minor": 5
}
